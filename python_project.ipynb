{
 "cells": [
  {
   "cell_type": "markdown",
   "id": "35fc84a2-069a-409e-8884-8dd3985caf34",
   "metadata": {
    "tags": []
   },
   "source": [
    "## Načtení dat ##"
   ]
  },
  {
   "cell_type": "code",
   "execution_count": 2,
   "id": "2f284a50-37fa-427e-9742-26710f551c73",
   "metadata": {},
   "outputs": [],
   "source": [
    "import pandas as pd\n",
    "import numpy as np\n",
    "from matplotlib import pyplot as plt\n",
    "\n",
    "ddf = (pd.read_csv('edinburgh_bikes.csv').drop(['Unnamed: 0', 'index'], axis=1))\n",
    "\n",
    "ddf[['started_at', 'ended_at']] = (\n",
    "    ddf[['started_at', 'ended_at']].apply(pd.to_datetime, format='%Y-%m-%d %H:%M:%S'))\n",
    "\n",
    "ddf['duration'] = ddf['duration'].apply(lambda x: x/60)  # minutes\n",
    "ddf.rename(columns={'duration': 'duration_min'}, inplace=True)"
   ]
  },
  {
   "cell_type": "markdown",
   "id": "093bfb1c-62f3-4284-93fc-abf08835a069",
   "metadata": {
    "tags": []
   },
   "source": [
    "## Popis datového souboru ##"
   ]
  },
  {
   "cell_type": "code",
   "execution_count": 3,
   "id": "4a19898f-53b6-4d58-8d32-4ea280b9a46a",
   "metadata": {},
   "outputs": [
    {
     "name": "stdout",
     "output_type": "stream",
     "text": [
      "<class 'pandas.core.frame.DataFrame'>\n",
      "RangeIndex: 438259 entries, 0 to 438258\n",
      "Data columns (total 13 columns):\n",
      " #   Column                     Non-Null Count   Dtype         \n",
      "---  ------                     --------------   -----         \n",
      " 0   started_at                 438259 non-null  datetime64[ns]\n",
      " 1   ended_at                   438259 non-null  datetime64[ns]\n",
      " 2   duration_min               438259 non-null  float64       \n",
      " 3   start_station_id           438259 non-null  int64         \n",
      " 4   start_station_name         438259 non-null  object        \n",
      " 5   start_station_description  434118 non-null  object        \n",
      " 6   start_station_latitude     438259 non-null  float64       \n",
      " 7   start_station_longitude    438259 non-null  float64       \n",
      " 8   end_station_id             438259 non-null  int64         \n",
      " 9   end_station_name           438259 non-null  object        \n",
      " 10  end_station_description    433570 non-null  object        \n",
      " 11  end_station_latitude       438259 non-null  float64       \n",
      " 12  end_station_longitude      438259 non-null  float64       \n",
      "dtypes: datetime64[ns](2), float64(5), int64(2), object(4)\n",
      "memory usage: 43.5+ MB\n"
     ]
    }
   ],
   "source": [
    "ddf.info()"
   ]
  },
  {
   "cell_type": "code",
   "execution_count": 36,
   "id": "44e0e99e-d92d-42ee-9b62-cdc7627f6d93",
   "metadata": {},
   "outputs": [
    {
     "data": {
      "text/html": [
       "<div>\n",
       "<style scoped>\n",
       "    .dataframe tbody tr th:only-of-type {\n",
       "        vertical-align: middle;\n",
       "    }\n",
       "\n",
       "    .dataframe tbody tr th {\n",
       "        vertical-align: top;\n",
       "    }\n",
       "\n",
       "    .dataframe thead th {\n",
       "        text-align: right;\n",
       "    }\n",
       "</style>\n",
       "<table border=\"1\" class=\"dataframe\">\n",
       "  <thead>\n",
       "    <tr style=\"text-align: right;\">\n",
       "      <th></th>\n",
       "      <th>started_at</th>\n",
       "      <th>ended_at</th>\n",
       "    </tr>\n",
       "  </thead>\n",
       "  <tbody>\n",
       "    <tr>\n",
       "      <th>0</th>\n",
       "      <td>2018-09-15 08:52:05</td>\n",
       "      <td>2018-09-15 09:11:48</td>\n",
       "    </tr>\n",
       "    <tr>\n",
       "      <th>438258</th>\n",
       "      <td>2021-06-30 23:58:33</td>\n",
       "      <td>2021-07-01 00:07:15</td>\n",
       "    </tr>\n",
       "  </tbody>\n",
       "</table>\n",
       "</div>"
      ],
      "text/plain": [
       "                started_at            ended_at\n",
       "0      2018-09-15 08:52:05 2018-09-15 09:11:48\n",
       "438258 2021-06-30 23:58:33 2021-07-01 00:07:15"
      ]
     },
     "execution_count": 36,
     "metadata": {},
     "output_type": "execute_result"
    }
   ],
   "source": [
    "# first and last record - timeframe\n",
    "ddf.sort_values('started_at').iloc[[0,-1],[0,1]]"
   ]
  },
  {
   "cell_type": "code",
   "execution_count": 4,
   "id": "3cf90b09-881c-46df-9917-86ee4a1e064e",
   "metadata": {},
   "outputs": [
    {
     "data": {
      "text/html": [
       "<div>\n",
       "<style scoped>\n",
       "    .dataframe tbody tr th:only-of-type {\n",
       "        vertical-align: middle;\n",
       "    }\n",
       "\n",
       "    .dataframe tbody tr th {\n",
       "        vertical-align: top;\n",
       "    }\n",
       "\n",
       "    .dataframe thead th {\n",
       "        text-align: right;\n",
       "    }\n",
       "</style>\n",
       "<table border=\"1\" class=\"dataframe\">\n",
       "  <thead>\n",
       "    <tr style=\"text-align: right;\">\n",
       "      <th></th>\n",
       "      <th>started_at</th>\n",
       "      <th>ended_at</th>\n",
       "      <th>duration_min</th>\n",
       "      <th>start_station_id</th>\n",
       "      <th>start_station_name</th>\n",
       "      <th>start_station_description</th>\n",
       "      <th>start_station_latitude</th>\n",
       "      <th>start_station_longitude</th>\n",
       "      <th>end_station_id</th>\n",
       "      <th>end_station_name</th>\n",
       "      <th>end_station_description</th>\n",
       "      <th>end_station_latitude</th>\n",
       "      <th>end_station_longitude</th>\n",
       "    </tr>\n",
       "  </thead>\n",
       "  <tbody>\n",
       "    <tr>\n",
       "      <th>0</th>\n",
       "      <td>2018-09-15 08:52:05</td>\n",
       "      <td>2018-09-15 09:11:48</td>\n",
       "      <td>19.700000</td>\n",
       "      <td>247</td>\n",
       "      <td>Charlotte Square</td>\n",
       "      <td>North Corner of Charlotte Square</td>\n",
       "      <td>55.952335</td>\n",
       "      <td>-3.207101</td>\n",
       "      <td>259</td>\n",
       "      <td>St Andrew Square</td>\n",
       "      <td>North East corner</td>\n",
       "      <td>55.954728</td>\n",
       "      <td>-3.192653</td>\n",
       "    </tr>\n",
       "    <tr>\n",
       "      <th>1</th>\n",
       "      <td>2018-09-15 09:24:33</td>\n",
       "      <td>2018-09-15 09:41:09</td>\n",
       "      <td>16.583333</td>\n",
       "      <td>259</td>\n",
       "      <td>St Andrew Square</td>\n",
       "      <td>North East corner</td>\n",
       "      <td>55.954749</td>\n",
       "      <td>-3.192774</td>\n",
       "      <td>262</td>\n",
       "      <td>Canonmills</td>\n",
       "      <td>near Tesco's</td>\n",
       "      <td>55.962804</td>\n",
       "      <td>-3.196284</td>\n",
       "    </tr>\n",
       "    <tr>\n",
       "      <th>2</th>\n",
       "      <td>2018-09-15 09:48:54</td>\n",
       "      <td>2018-09-15 10:46:40</td>\n",
       "      <td>57.766667</td>\n",
       "      <td>262</td>\n",
       "      <td>Canonmills</td>\n",
       "      <td>near Tesco's</td>\n",
       "      <td>55.962804</td>\n",
       "      <td>-3.196284</td>\n",
       "      <td>250</td>\n",
       "      <td>Victoria Quay</td>\n",
       "      <td>Entrance to Scottish Government Office</td>\n",
       "      <td>55.977638</td>\n",
       "      <td>-3.174116</td>\n",
       "    </tr>\n",
       "  </tbody>\n",
       "</table>\n",
       "</div>"
      ],
      "text/plain": [
       "           started_at            ended_at  duration_min  start_station_id  \\\n",
       "0 2018-09-15 08:52:05 2018-09-15 09:11:48     19.700000               247   \n",
       "1 2018-09-15 09:24:33 2018-09-15 09:41:09     16.583333               259   \n",
       "2 2018-09-15 09:48:54 2018-09-15 10:46:40     57.766667               262   \n",
       "\n",
       "  start_station_name         start_station_description  \\\n",
       "0   Charlotte Square  North Corner of Charlotte Square   \n",
       "1   St Andrew Square                 North East corner   \n",
       "2         Canonmills                      near Tesco's   \n",
       "\n",
       "   start_station_latitude  start_station_longitude  end_station_id  \\\n",
       "0               55.952335                -3.207101             259   \n",
       "1               55.954749                -3.192774             262   \n",
       "2               55.962804                -3.196284             250   \n",
       "\n",
       "   end_station_name                 end_station_description  \\\n",
       "0  St Andrew Square                       North East corner   \n",
       "1        Canonmills                            near Tesco's   \n",
       "2     Victoria Quay  Entrance to Scottish Government Office   \n",
       "\n",
       "   end_station_latitude  end_station_longitude  \n",
       "0             55.954728              -3.192653  \n",
       "1             55.962804              -3.196284  \n",
       "2             55.977638              -3.174116  "
      ]
     },
     "execution_count": 4,
     "metadata": {},
     "output_type": "execute_result"
    }
   ],
   "source": [
    "ddf.head(3)"
   ]
  },
  {
   "cell_type": "markdown",
   "id": "eac24493-daa9-4faa-b7b5-be35f0b16211",
   "metadata": {},
   "source": [
    "### Chybějící hodnoty ###\n",
    "- pouze popisky stanic "
   ]
  },
  {
   "cell_type": "code",
   "execution_count": 5,
   "id": "e6c34ce0-2f1b-465e-baaf-aa271378f2a0",
   "metadata": {},
   "outputs": [
    {
     "data": {
      "text/plain": [
       "started_at                   False\n",
       "ended_at                     False\n",
       "duration_min                 False\n",
       "start_station_id             False\n",
       "start_station_name           False\n",
       "start_station_description     True\n",
       "start_station_latitude       False\n",
       "start_station_longitude      False\n",
       "end_station_id               False\n",
       "end_station_name             False\n",
       "end_station_description       True\n",
       "end_station_latitude         False\n",
       "end_station_longitude        False\n",
       "dtype: bool"
      ]
     },
     "execution_count": 5,
     "metadata": {},
     "output_type": "execute_result"
    }
   ],
   "source": [
    "ddf.isna().any()"
   ]
  },
  {
   "cell_type": "markdown",
   "id": "4d130106-da46-4291-92b3-beff0bddddad",
   "metadata": {
    "tags": []
   },
   "source": [
    "### Odlehlé hodnoty ###\n",
    "- trvání výpůjčky (duration)"
   ]
  },
  {
   "cell_type": "code",
   "execution_count": 40,
   "id": "c5cfda37-6784-4c36-9b69-79fd4696b5fa",
   "metadata": {},
   "outputs": [
    {
     "data": {
      "text/html": [
       "<div>\n",
       "<style scoped>\n",
       "    .dataframe tbody tr th:only-of-type {\n",
       "        vertical-align: middle;\n",
       "    }\n",
       "\n",
       "    .dataframe tbody tr th {\n",
       "        vertical-align: top;\n",
       "    }\n",
       "\n",
       "    .dataframe thead th {\n",
       "        text-align: right;\n",
       "    }\n",
       "</style>\n",
       "<table border=\"1\" class=\"dataframe\">\n",
       "  <thead>\n",
       "    <tr style=\"text-align: right;\">\n",
       "      <th></th>\n",
       "      <th>mean</th>\n",
       "      <th>std</th>\n",
       "      <th>min</th>\n",
       "      <th>5%</th>\n",
       "      <th>25%</th>\n",
       "      <th>50%</th>\n",
       "      <th>75%</th>\n",
       "      <th>95%</th>\n",
       "      <th>99%</th>\n",
       "      <th>max</th>\n",
       "    </tr>\n",
       "  </thead>\n",
       "  <tbody>\n",
       "    <tr>\n",
       "      <th>duration_min</th>\n",
       "      <td>32.5</td>\n",
       "      <td>94.3</td>\n",
       "      <td>1.0</td>\n",
       "      <td>4.6</td>\n",
       "      <td>10.4</td>\n",
       "      <td>19.4</td>\n",
       "      <td>42.2</td>\n",
       "      <td>90.2</td>\n",
       "      <td>186.5</td>\n",
       "      <td>39389.1</td>\n",
       "    </tr>\n",
       "  </tbody>\n",
       "</table>\n",
       "</div>"
      ],
      "text/plain": [
       "              mean   std  min   5%   25%   50%   75%   95%    99%      max\n",
       "duration_min  32.5  94.3  1.0  4.6  10.4  19.4  42.2  90.2  186.5  39389.1"
      ]
     },
     "execution_count": 40,
     "metadata": {},
     "output_type": "execute_result"
    }
   ],
   "source": [
    "round(ddf[['duration_min']]\n",
    " .describe(percentiles=[.05, .25, .50, .75, .95, .99])\n",
    " .drop('count'), 1).T"
   ]
  },
  {
   "cell_type": "code",
   "execution_count": 6,
   "id": "a8183869-2b73-4ca7-a925-7c5ba604d01e",
   "metadata": {},
   "outputs": [
    {
     "data": {
      "image/png": "[encoded data removed]",
      "text/plain": [
       "<Figure size 720x504 with 1 Axes>"
      ]
     },
     "metadata": {
      "needs_background": "light"
     },
     "output_type": "display_data"
    }
   ],
   "source": [
    "fig, ax = plt.subplots(figsize=(10,7))\n",
    "\n",
    "# in days\n",
    "(ddf[['duration_min']]/60/24).sort_values('duration_min').tail(30).plot.bar(ax=ax)\n",
    "\n",
    "ax.set_title('Nejdelší výpůjčky', fontsize=15)\n",
    "ax.set_xlabel('ID výpůjčky', fontsize=15)\n",
    "ax.set_ylabel('Délka výpůjčky ve dnech', fontsize=15)\n",
    "ax.legend().remove()\n",
    "ax.grid()\n",
    "plt.show()"
   ]
  },
  {
   "cell_type": "code",
   "execution_count": 44,
   "id": "70373bc8-ee1a-4d76-aebc-b511dad827d3",
   "metadata": {},
   "outputs": [
    {
     "data": {
      "image/png": "[encoded data removed]",
      "text/plain": [
       "<Figure size 720x504 with 1 Axes>"
      ]
     },
     "metadata": {
      "needs_background": "light"
     },
     "output_type": "display_data"
    }
   ],
   "source": [
    "fig, ax = plt.subplots(figsize=(10,7))\n",
    "ax.hist((ddf['duration_min']).value_counts(), bins=100)\n",
    "\n",
    "ax.set_xlim(0, 100)\n",
    "ax.set_title('Délka trvání výpůjček kol (95 % hodnot)', fontsize=20)\n",
    "ax.set_xlabel('délka výpůjčky kola [min]', fontsize=15)\n",
    "ax.set_ylabel('počet výpůjček', fontsize=15)\n",
    "ax.grid()\n",
    "plt.show()"
   ]
  },
  {
   "cell_type": "markdown",
   "id": "693b2e7e-8bda-4d21-b432-c293eed9f648",
   "metadata": {
    "tags": []
   },
   "source": [
    "## Aktivní a neaktivní stanice ##"
   ]
  },
  {
   "cell_type": "code",
   "execution_count": 45,
   "id": "5d2b6bbc-5f36-42bd-9492-a6dc917f403c",
   "metadata": {},
   "outputs": [],
   "source": [
    "# List of all stations\n",
    "s1 = (ddf[['start_station_id', 'start_station_name']]\n",
    "      .rename(columns={'start_station_id': 'station_ID',\n",
    "                       'start_station_name': 'station_name'}))\n",
    "s2 = (ddf[['end_station_id', 'end_station_name']]\n",
    "      .rename(columns={'end_station_id': 'station_ID',\n",
    "                       'end_station_name': 'station_name'}))\n",
    "stations_df = (s1.append(s2)\n",
    "               .drop_duplicates(subset='station_ID')\n",
    "               .set_index('station_ID')\n",
    "               .sort_index())"
   ]
  },
  {
   "cell_type": "code",
   "execution_count": 10,
   "id": "66f5bb6a-8f62-4f0c-abc9-093418453605",
   "metadata": {},
   "outputs": [
    {
     "data": {
      "text/html": [
       "<div>\n",
       "<style scoped>\n",
       "    .dataframe tbody tr th:only-of-type {\n",
       "        vertical-align: middle;\n",
       "    }\n",
       "\n",
       "    .dataframe tbody tr th {\n",
       "        vertical-align: top;\n",
       "    }\n",
       "\n",
       "    .dataframe thead th {\n",
       "        text-align: right;\n",
       "    }\n",
       "</style>\n",
       "<table border=\"1\" class=\"dataframe\">\n",
       "  <thead>\n",
       "    <tr style=\"text-align: right;\">\n",
       "      <th></th>\n",
       "      <th>station_name</th>\n",
       "    </tr>\n",
       "    <tr>\n",
       "      <th>station_ID</th>\n",
       "      <th></th>\n",
       "    </tr>\n",
       "  </thead>\n",
       "  <tbody>\n",
       "    <tr>\n",
       "      <th>171</th>\n",
       "      <td>George Square</td>\n",
       "    </tr>\n",
       "    <tr>\n",
       "      <th>183</th>\n",
       "      <td>Waverley Bridge</td>\n",
       "    </tr>\n",
       "    <tr>\n",
       "      <th>189</th>\n",
       "      <td>City Chambers</td>\n",
       "    </tr>\n",
       "  </tbody>\n",
       "</table>\n",
       "</div>"
      ],
      "text/plain": [
       "               station_name\n",
       "station_ID                 \n",
       "171           George Square\n",
       "183         Waverley Bridge\n",
       "189           City Chambers"
      ]
     },
     "execution_count": 10,
     "metadata": {},
     "output_type": "execute_result"
    }
   ],
   "source": [
    "stations_df.head(3)"
   ]
  },
  {
   "cell_type": "code",
   "execution_count": 46,
   "id": "520662c1-66e9-4dd4-8f07-47e790f4f212",
   "metadata": {},
   "outputs": [
    {
     "data": {
      "text/html": [
       "<div>\n",
       "<style scoped>\n",
       "    .dataframe tbody tr th:only-of-type {\n",
       "        vertical-align: middle;\n",
       "    }\n",
       "\n",
       "    .dataframe tbody tr th {\n",
       "        vertical-align: top;\n",
       "    }\n",
       "\n",
       "    .dataframe thead th {\n",
       "        text-align: right;\n",
       "    }\n",
       "</style>\n",
       "<table border=\"1\" class=\"dataframe\">\n",
       "  <thead>\n",
       "    <tr style=\"text-align: right;\">\n",
       "      <th></th>\n",
       "      <th>station_name</th>\n",
       "      <th>departures_count</th>\n",
       "      <th>arrivals_count</th>\n",
       "      <th>total_count</th>\n",
       "    </tr>\n",
       "    <tr>\n",
       "      <th>station_ID</th>\n",
       "      <th></th>\n",
       "      <th></th>\n",
       "      <th></th>\n",
       "      <th></th>\n",
       "    </tr>\n",
       "  </thead>\n",
       "  <tbody>\n",
       "    <tr>\n",
       "      <th>250</th>\n",
       "      <td>Victoria Quay</td>\n",
       "      <td>10662</td>\n",
       "      <td>15254</td>\n",
       "      <td>25916</td>\n",
       "    </tr>\n",
       "    <tr>\n",
       "      <th>1728</th>\n",
       "      <td>Portobello - Kings Road</td>\n",
       "      <td>11843</td>\n",
       "      <td>16656</td>\n",
       "      <td>28499</td>\n",
       "    </tr>\n",
       "    <tr>\n",
       "      <th>265</th>\n",
       "      <td>Meadows East</td>\n",
       "      <td>17390</td>\n",
       "      <td>15225</td>\n",
       "      <td>32615</td>\n",
       "    </tr>\n",
       "  </tbody>\n",
       "</table>\n",
       "</div>"
      ],
      "text/plain": [
       "                       station_name  departures_count  arrivals_count  \\\n",
       "station_ID                                                              \n",
       "250                   Victoria Quay             10662           15254   \n",
       "1728        Portobello - Kings Road             11843           16656   \n",
       "265                    Meadows East             17390           15225   \n",
       "\n",
       "            total_count  \n",
       "station_ID               \n",
       "250               25916  \n",
       "1728              28499  \n",
       "265               32615  "
      ]
     },
     "execution_count": 46,
     "metadata": {},
     "output_type": "execute_result"
    }
   ],
   "source": [
    "activity_df = (stations_df\n",
    "               .assign(departures_count = ddf.groupby('start_station_id')\n",
    "                       .count()[['started_at']])\n",
    "               .assign(arrivals_count = ddf.groupby('end_station_id')\n",
    "                       .count()[['ended_at']])\n",
    "               .fillna(0)\n",
    "               .astype({'departures_count': int, 'arrivals_count': int}))\n",
    "activity_df['total_count'] = (activity_df['departures_count']\n",
    "                              + activity_df['arrivals_count'])\n",
    "activity_df = (activity_df.sort_values('total_count'))\n",
    " \n",
    "activity_df.tail(3)"
   ]
  },
  {
   "cell_type": "code",
   "execution_count": 53,
   "id": "c9258d40-6a5a-4b6e-84b3-4d53391848bf",
   "metadata": {},
   "outputs": [
    {
     "data": {
      "text/html": [
       "<div>\n",
       "<style scoped>\n",
       "    .dataframe tbody tr th:only-of-type {\n",
       "        vertical-align: middle;\n",
       "    }\n",
       "\n",
       "    .dataframe tbody tr th {\n",
       "        vertical-align: top;\n",
       "    }\n",
       "\n",
       "    .dataframe thead th {\n",
       "        text-align: right;\n",
       "    }\n",
       "</style>\n",
       "<table border=\"1\" class=\"dataframe\">\n",
       "  <thead>\n",
       "    <tr style=\"text-align: right;\">\n",
       "      <th></th>\n",
       "      <th>count</th>\n",
       "      <th>mean</th>\n",
       "      <th>std</th>\n",
       "      <th>min</th>\n",
       "      <th>5%</th>\n",
       "      <th>10%</th>\n",
       "      <th>25%</th>\n",
       "      <th>50%</th>\n",
       "      <th>75%</th>\n",
       "      <th>90%</th>\n",
       "      <th>95%</th>\n",
       "      <th>99%</th>\n",
       "      <th>max</th>\n",
       "    </tr>\n",
       "  </thead>\n",
       "  <tbody>\n",
       "    <tr>\n",
       "      <th>total_count</th>\n",
       "      <td>200</td>\n",
       "      <td>4383</td>\n",
       "      <td>5682</td>\n",
       "      <td>1</td>\n",
       "      <td>13</td>\n",
       "      <td>65</td>\n",
       "      <td>442</td>\n",
       "      <td>2171</td>\n",
       "      <td>5972</td>\n",
       "      <td>11053</td>\n",
       "      <td>16353</td>\n",
       "      <td>25942</td>\n",
       "      <td>32615</td>\n",
       "    </tr>\n",
       "  </tbody>\n",
       "</table>\n",
       "</div>"
      ],
      "text/plain": [
       "             count  mean   std  min  5%  10%  25%   50%   75%    90%    95%  \\\n",
       "total_count    200  4383  5682    1  13   65  442  2171  5972  11053  16353   \n",
       "\n",
       "               99%    max  \n",
       "total_count  25942  32615  "
      ]
     },
     "execution_count": 53,
     "metadata": {},
     "output_type": "execute_result"
    }
   ],
   "source": [
    "round(activity_df[['total_count']]\n",
    " .describe(percentiles=[.05, .10, .25, .50, .75, .90, .95, .99]),0).astype(int).T"
   ]
  },
  {
   "cell_type": "code",
   "execution_count": 54,
   "id": "aa25e13c-042d-4c7a-b10e-834d579546b2",
   "metadata": {},
   "outputs": [
    {
     "data": {
      "image/png": "[encoded data removed]",
      "text/plain": [
       "<Figure size 720x504 with 1 Axes>"
      ]
     },
     "metadata": {
      "needs_background": "light"
     },
     "output_type": "display_data"
    }
   ],
   "source": [
    "# lowest 10% - inactive\n",
    "fig, ax = plt.subplots(figsize=(10,7))\n",
    "activity_df[['total_count']].query('total_count < 64.8').plot.bar(ax=ax)\n",
    "\n",
    "ax.set_title('Neaktivní stanice: < 10% všech odjezdů a příjezdů', fontsize=15)\n",
    "ax.set_xlabel('ID stanice', fontsize=15)\n",
    "ax.set_ylabel('Celkem odjezdů a příjezdů', fontsize=15)\n",
    "ax.legend().remove()\n",
    "ax.grid()\n",
    "plt.show()"
   ]
  },
  {
   "cell_type": "code",
   "execution_count": 55,
   "id": "53aac0e7-a4ef-44ea-adca-740a2eebfbd6",
   "metadata": {},
   "outputs": [
    {
     "data": {
      "image/png": "[encoded data removed]",
      "text/plain": [
       "<Figure size 720x504 with 1 Axes>"
      ]
     },
     "metadata": {
      "needs_background": "light"
     },
     "output_type": "display_data"
    }
   ],
   "source": [
    "# highest 10% - most active\n",
    "fig, ax = plt.subplots(figsize=(10,7))\n",
    "activity_df[['total_count']].query('total_count > 11053').plot.bar(ax=ax)\n",
    "\n",
    "ax.set_title('Nejaktivnější stanice: > 90% všech odjezdů a příjezdů', fontsize=15)\n",
    "ax.set_xlabel('ID stanice', fontsize=15)\n",
    "ax.set_ylabel('Celkem odjezdů a příjezdů', fontsize=15)\n",
    "ax.legend().remove()\n",
    "ax.grid()\n",
    "plt.show()"
   ]
  },
  {
   "cell_type": "markdown",
   "id": "127ead4e-8c80-4a73-8d91-0c189d141e0c",
   "metadata": {},
   "source": [
    "## Stanice, kde se kola hromadí ##"
   ]
  },
  {
   "cell_type": "code",
   "execution_count": 15,
   "id": "269c16e3-53be-4381-82cb-a9fb989af312",
   "metadata": {},
   "outputs": [
    {
     "data": {
      "text/html": [
       "<div>\n",
       "<style scoped>\n",
       "    .dataframe tbody tr th:only-of-type {\n",
       "        vertical-align: middle;\n",
       "    }\n",
       "\n",
       "    .dataframe tbody tr th {\n",
       "        vertical-align: top;\n",
       "    }\n",
       "\n",
       "    .dataframe thead th {\n",
       "        text-align: right;\n",
       "    }\n",
       "</style>\n",
       "<table border=\"1\" class=\"dataframe\">\n",
       "  <thead>\n",
       "    <tr style=\"text-align: right;\">\n",
       "      <th></th>\n",
       "      <th>station_name</th>\n",
       "      <th>departures_count</th>\n",
       "      <th>arrivals_count</th>\n",
       "      <th>total_count</th>\n",
       "    </tr>\n",
       "    <tr>\n",
       "      <th>station_ID</th>\n",
       "      <th></th>\n",
       "      <th></th>\n",
       "      <th></th>\n",
       "      <th></th>\n",
       "    </tr>\n",
       "  </thead>\n",
       "  <tbody>\n",
       "    <tr>\n",
       "      <th>250</th>\n",
       "      <td>Victoria Quay</td>\n",
       "      <td>10662.0</td>\n",
       "      <td>15254.0</td>\n",
       "      <td>25916.0</td>\n",
       "    </tr>\n",
       "    <tr>\n",
       "      <th>1728</th>\n",
       "      <td>Portobello - Kings Road</td>\n",
       "      <td>11843.0</td>\n",
       "      <td>16656.0</td>\n",
       "      <td>28499.0</td>\n",
       "    </tr>\n",
       "    <tr>\n",
       "      <th>265</th>\n",
       "      <td>Meadows East</td>\n",
       "      <td>17390.0</td>\n",
       "      <td>15225.0</td>\n",
       "      <td>32615.0</td>\n",
       "    </tr>\n",
       "  </tbody>\n",
       "</table>\n",
       "</div>"
      ],
      "text/plain": [
       "                       station_name  departures_count  arrivals_count  \\\n",
       "station_ID                                                              \n",
       "250                   Victoria Quay           10662.0         15254.0   \n",
       "1728        Portobello - Kings Road           11843.0         16656.0   \n",
       "265                    Meadows East           17390.0         15225.0   \n",
       "\n",
       "            total_count  \n",
       "station_ID               \n",
       "250             25916.0  \n",
       "1728            28499.0  \n",
       "265             32615.0  "
      ]
     },
     "execution_count": 15,
     "metadata": {},
     "output_type": "execute_result"
    }
   ],
   "source": [
    "# hromadí: víc příjezdů než odjezdů\n",
    "# chybí: víc odjezdů než příjezdů\n",
    "# scatter plot\n",
    "\n",
    "activity_df.tail(3)"
   ]
  }
 ],
 "metadata": {
  "kernelspec": {
   "display_name": "Python 3 (ipykernel)",
   "language": "python",
   "name": "python3"
  },
  "language_info": {
   "codemirror_mode": {
    "name": "ipython",
    "version": 3
   },
   "file_extension": ".py",
   "mimetype": "text/x-python",
   "name": "python",
   "nbconvert_exporter": "python",
   "pygments_lexer": "ipython3",
   "version": "3.9.7"
  },
  "toc-autonumbering": false
 },
 "nbformat": 4,
 "nbformat_minor": 5
}
