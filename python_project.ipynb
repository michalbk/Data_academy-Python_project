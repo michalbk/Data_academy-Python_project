{
 "cells": [
  {
   "cell_type": "markdown",
   "id": "35fc84a2-069a-409e-8884-8dd3985caf34",
   "metadata": {
    "tags": []
   },
   "source": [
    "## Načtení dat ##"
   ]
  },
  {
   "cell_type": "code",
   "execution_count": 56,
   "id": "2f284a50-37fa-427e-9742-26710f551c73",
   "metadata": {},
   "outputs": [],
   "source": [
    "import pandas as pd\n",
    "import numpy as np\n",
    "from matplotlib import pyplot as plt\n",
    "\n",
    "ddf = (pd.read_csv('edinburgh_bikes.csv').drop(['Unnamed: 0', 'index'], axis=1))\n",
    "\n",
    "ddf[['started_at', 'ended_at']] = (\n",
    "    ddf[['started_at', 'ended_at']].apply(pd.to_datetime, format='%Y-%m-%d %H:%M:%S'))\n",
    "\n",
    "ddf['duration'] = ddf['duration'].apply(lambda x: x/60)  # minutes\n",
    "ddf.rename(columns={'duration': 'duration_min'}, inplace=True)"
   ]
  },
  {
   "cell_type": "markdown",
   "id": "093bfb1c-62f3-4284-93fc-abf08835a069",
   "metadata": {
    "tags": []
   },
   "source": [
    "## Popis datového souboru ##"
   ]
  },
  {
   "cell_type": "code",
   "execution_count": 57,
   "id": "4a19898f-53b6-4d58-8d32-4ea280b9a46a",
   "metadata": {},
   "outputs": [
    {
     "name": "stdout",
     "output_type": "stream",
     "text": [
      "<class 'pandas.core.frame.DataFrame'>\n",
      "RangeIndex: 438259 entries, 0 to 438258\n",
      "Data columns (total 13 columns):\n",
      " #   Column                     Non-Null Count   Dtype         \n",
      "---  ------                     --------------   -----         \n",
      " 0   started_at                 438259 non-null  datetime64[ns]\n",
      " 1   ended_at                   438259 non-null  datetime64[ns]\n",
      " 2   duration_min               438259 non-null  float64       \n",
      " 3   start_station_id           438259 non-null  int64         \n",
      " 4   start_station_name         438259 non-null  object        \n",
      " 5   start_station_description  434118 non-null  object        \n",
      " 6   start_station_latitude     438259 non-null  float64       \n",
      " 7   start_station_longitude    438259 non-null  float64       \n",
      " 8   end_station_id             438259 non-null  int64         \n",
      " 9   end_station_name           438259 non-null  object        \n",
      " 10  end_station_description    433570 non-null  object        \n",
      " 11  end_station_latitude       438259 non-null  float64       \n",
      " 12  end_station_longitude      438259 non-null  float64       \n",
      "dtypes: datetime64[ns](2), float64(5), int64(2), object(4)\n",
      "memory usage: 43.5+ MB\n"
     ]
    }
   ],
   "source": [
    "ddf.info()"
   ]
  },
  {
   "cell_type": "code",
   "execution_count": 58,
   "id": "44e0e99e-d92d-42ee-9b62-cdc7627f6d93",
   "metadata": {},
   "outputs": [
    {
     "data": {
      "text/html": [
       "<div>\n",
       "<style scoped>\n",
       "    .dataframe tbody tr th:only-of-type {\n",
       "        vertical-align: middle;\n",
       "    }\n",
       "\n",
       "    .dataframe tbody tr th {\n",
       "        vertical-align: top;\n",
       "    }\n",
       "\n",
       "    .dataframe thead th {\n",
       "        text-align: right;\n",
       "    }\n",
       "</style>\n",
       "<table border=\"1\" class=\"dataframe\">\n",
       "  <thead>\n",
       "    <tr style=\"text-align: right;\">\n",
       "      <th></th>\n",
       "      <th>started_at</th>\n",
       "      <th>ended_at</th>\n",
       "    </tr>\n",
       "  </thead>\n",
       "  <tbody>\n",
       "    <tr>\n",
       "      <th>0</th>\n",
       "      <td>2018-09-15 08:52:05</td>\n",
       "      <td>2018-09-15 09:11:48</td>\n",
       "    </tr>\n",
       "    <tr>\n",
       "      <th>438258</th>\n",
       "      <td>2021-06-30 23:58:33</td>\n",
       "      <td>2021-07-01 00:07:15</td>\n",
       "    </tr>\n",
       "  </tbody>\n",
       "</table>\n",
       "</div>"
      ],
      "text/plain": [
       "                started_at            ended_at\n",
       "0      2018-09-15 08:52:05 2018-09-15 09:11:48\n",
       "438258 2021-06-30 23:58:33 2021-07-01 00:07:15"
      ]
     },
     "execution_count": 58,
     "metadata": {},
     "output_type": "execute_result"
    }
   ],
   "source": [
    "# first and last record - timeframe\n",
    "ddf.sort_values('started_at').iloc[[0,-1],[0,1]]"
   ]
  },
  {
   "cell_type": "code",
   "execution_count": 59,
   "id": "3cf90b09-881c-46df-9917-86ee4a1e064e",
   "metadata": {
    "tags": []
   },
   "outputs": [
    {
     "data": {
      "text/html": [
       "<div>\n",
       "<style scoped>\n",
       "    .dataframe tbody tr th:only-of-type {\n",
       "        vertical-align: middle;\n",
       "    }\n",
       "\n",
       "    .dataframe tbody tr th {\n",
       "        vertical-align: top;\n",
       "    }\n",
       "\n",
       "    .dataframe thead th {\n",
       "        text-align: right;\n",
       "    }\n",
       "</style>\n",
       "<table border=\"1\" class=\"dataframe\">\n",
       "  <thead>\n",
       "    <tr style=\"text-align: right;\">\n",
       "      <th></th>\n",
       "      <th>started_at</th>\n",
       "      <th>ended_at</th>\n",
       "      <th>duration_min</th>\n",
       "      <th>start_station_id</th>\n",
       "      <th>start_station_name</th>\n",
       "      <th>start_station_description</th>\n",
       "      <th>start_station_latitude</th>\n",
       "      <th>start_station_longitude</th>\n",
       "      <th>end_station_id</th>\n",
       "      <th>end_station_name</th>\n",
       "      <th>end_station_description</th>\n",
       "      <th>end_station_latitude</th>\n",
       "      <th>end_station_longitude</th>\n",
       "    </tr>\n",
       "  </thead>\n",
       "  <tbody>\n",
       "    <tr>\n",
       "      <th>0</th>\n",
       "      <td>2018-09-15 08:52:05</td>\n",
       "      <td>2018-09-15 09:11:48</td>\n",
       "      <td>19.700000</td>\n",
       "      <td>247</td>\n",
       "      <td>Charlotte Square</td>\n",
       "      <td>North Corner of Charlotte Square</td>\n",
       "      <td>55.952335</td>\n",
       "      <td>-3.207101</td>\n",
       "      <td>259</td>\n",
       "      <td>St Andrew Square</td>\n",
       "      <td>North East corner</td>\n",
       "      <td>55.954728</td>\n",
       "      <td>-3.192653</td>\n",
       "    </tr>\n",
       "    <tr>\n",
       "      <th>1</th>\n",
       "      <td>2018-09-15 09:24:33</td>\n",
       "      <td>2018-09-15 09:41:09</td>\n",
       "      <td>16.583333</td>\n",
       "      <td>259</td>\n",
       "      <td>St Andrew Square</td>\n",
       "      <td>North East corner</td>\n",
       "      <td>55.954749</td>\n",
       "      <td>-3.192774</td>\n",
       "      <td>262</td>\n",
       "      <td>Canonmills</td>\n",
       "      <td>near Tesco's</td>\n",
       "      <td>55.962804</td>\n",
       "      <td>-3.196284</td>\n",
       "    </tr>\n",
       "    <tr>\n",
       "      <th>2</th>\n",
       "      <td>2018-09-15 09:48:54</td>\n",
       "      <td>2018-09-15 10:46:40</td>\n",
       "      <td>57.766667</td>\n",
       "      <td>262</td>\n",
       "      <td>Canonmills</td>\n",
       "      <td>near Tesco's</td>\n",
       "      <td>55.962804</td>\n",
       "      <td>-3.196284</td>\n",
       "      <td>250</td>\n",
       "      <td>Victoria Quay</td>\n",
       "      <td>Entrance to Scottish Government Office</td>\n",
       "      <td>55.977638</td>\n",
       "      <td>-3.174116</td>\n",
       "    </tr>\n",
       "  </tbody>\n",
       "</table>\n",
       "</div>"
      ],
      "text/plain": [
       "           started_at            ended_at  duration_min  start_station_id  \\\n",
       "0 2018-09-15 08:52:05 2018-09-15 09:11:48     19.700000               247   \n",
       "1 2018-09-15 09:24:33 2018-09-15 09:41:09     16.583333               259   \n",
       "2 2018-09-15 09:48:54 2018-09-15 10:46:40     57.766667               262   \n",
       "\n",
       "  start_station_name         start_station_description  \\\n",
       "0   Charlotte Square  North Corner of Charlotte Square   \n",
       "1   St Andrew Square                 North East corner   \n",
       "2         Canonmills                      near Tesco's   \n",
       "\n",
       "   start_station_latitude  start_station_longitude  end_station_id  \\\n",
       "0               55.952335                -3.207101             259   \n",
       "1               55.954749                -3.192774             262   \n",
       "2               55.962804                -3.196284             250   \n",
       "\n",
       "   end_station_name                 end_station_description  \\\n",
       "0  St Andrew Square                       North East corner   \n",
       "1        Canonmills                            near Tesco's   \n",
       "2     Victoria Quay  Entrance to Scottish Government Office   \n",
       "\n",
       "   end_station_latitude  end_station_longitude  \n",
       "0             55.954728              -3.192653  \n",
       "1             55.962804              -3.196284  \n",
       "2             55.977638              -3.174116  "
      ]
     },
     "execution_count": 59,
     "metadata": {},
     "output_type": "execute_result"
    }
   ],
   "source": [
    "ddf.head(3)"
   ]
  },
  {
   "cell_type": "markdown",
   "id": "eac24493-daa9-4faa-b7b5-be35f0b16211",
   "metadata": {},
   "source": [
    "### Chybějící hodnoty ###\n",
    "- pouze popisky stanic "
   ]
  },
  {
   "cell_type": "code",
   "execution_count": 60,
   "id": "e6c34ce0-2f1b-465e-baaf-aa271378f2a0",
   "metadata": {},
   "outputs": [
    {
     "data": {
      "text/plain": [
       "started_at                   False\n",
       "ended_at                     False\n",
       "duration_min                 False\n",
       "start_station_id             False\n",
       "start_station_name           False\n",
       "start_station_description     True\n",
       "start_station_latitude       False\n",
       "start_station_longitude      False\n",
       "end_station_id               False\n",
       "end_station_name             False\n",
       "end_station_description       True\n",
       "end_station_latitude         False\n",
       "end_station_longitude        False\n",
       "dtype: bool"
      ]
     },
     "execution_count": 60,
     "metadata": {},
     "output_type": "execute_result"
    }
   ],
   "source": [
    "ddf.isna().any()"
   ]
  },
  {
   "cell_type": "markdown",
   "id": "4d130106-da46-4291-92b3-beff0bddddad",
   "metadata": {
    "tags": []
   },
   "source": [
    "### Odlehlé hodnoty ###\n",
    "- trvání výpůjčky (duration)"
   ]
  },
  {
   "cell_type": "code",
   "execution_count": 61,
   "id": "c5cfda37-6784-4c36-9b69-79fd4696b5fa",
   "metadata": {},
   "outputs": [
    {
     "data": {
      "text/html": [
       "<div>\n",
       "<style scoped>\n",
       "    .dataframe tbody tr th:only-of-type {\n",
       "        vertical-align: middle;\n",
       "    }\n",
       "\n",
       "    .dataframe tbody tr th {\n",
       "        vertical-align: top;\n",
       "    }\n",
       "\n",
       "    .dataframe thead th {\n",
       "        text-align: right;\n",
       "    }\n",
       "</style>\n",
       "<table border=\"1\" class=\"dataframe\">\n",
       "  <thead>\n",
       "    <tr style=\"text-align: right;\">\n",
       "      <th></th>\n",
       "      <th>mean</th>\n",
       "      <th>std</th>\n",
       "      <th>min</th>\n",
       "      <th>5%</th>\n",
       "      <th>25%</th>\n",
       "      <th>50%</th>\n",
       "      <th>75%</th>\n",
       "      <th>95%</th>\n",
       "      <th>99%</th>\n",
       "      <th>max</th>\n",
       "    </tr>\n",
       "  </thead>\n",
       "  <tbody>\n",
       "    <tr>\n",
       "      <th>duration_min</th>\n",
       "      <td>32.5</td>\n",
       "      <td>94.3</td>\n",
       "      <td>1.0</td>\n",
       "      <td>4.6</td>\n",
       "      <td>10.4</td>\n",
       "      <td>19.4</td>\n",
       "      <td>42.2</td>\n",
       "      <td>90.2</td>\n",
       "      <td>186.5</td>\n",
       "      <td>39389.1</td>\n",
       "    </tr>\n",
       "  </tbody>\n",
       "</table>\n",
       "</div>"
      ],
      "text/plain": [
       "              mean   std  min   5%   25%   50%   75%   95%    99%      max\n",
       "duration_min  32.5  94.3  1.0  4.6  10.4  19.4  42.2  90.2  186.5  39389.1"
      ]
     },
     "execution_count": 61,
     "metadata": {},
     "output_type": "execute_result"
    }
   ],
   "source": [
    "round(ddf[['duration_min']]\n",
    " .describe(percentiles=[.05, .25, .50, .75, .95, .99])\n",
    " .drop('count'), 1).T"
   ]
  },
  {
   "cell_type": "code",
   "execution_count": 62,
   "id": "a8183869-2b73-4ca7-a925-7c5ba604d01e",
   "metadata": {},
   "outputs": [
    {
     "data": {
      "image/png": "[encoded data removed]",
      "text/plain": [
       "<Figure size 720x504 with 1 Axes>"
      ]
     },
     "metadata": {
      "needs_background": "light"
     },
     "output_type": "display_data"
    }
   ],
   "source": [
    "fig, ax = plt.subplots(figsize=(10,7))\n",
    "\n",
    "# in days\n",
    "(ddf[['duration_min']]/60/24).sort_values('duration_min').tail(30).plot.bar(ax=ax)\n",
    "\n",
    "ax.set_title('Nejdelší výpůjčky', fontsize=15)\n",
    "ax.set_xlabel('ID výpůjčky', fontsize=15)\n",
    "ax.set_ylabel('Délka výpůjčky ve dnech', fontsize=15)\n",
    "ax.legend().remove()\n",
    "ax.grid()\n",
    "plt.show()"
   ]
  },
  {
   "cell_type": "code",
   "execution_count": 63,
   "id": "70373bc8-ee1a-4d76-aebc-b511dad827d3",
   "metadata": {},
   "outputs": [
    {
     "data": {
      "image/png": "[encoded data removed]",
      "text/plain": [
       "<Figure size 720x504 with 1 Axes>"
      ]
     },
     "metadata": {
      "needs_background": "light"
     },
     "output_type": "display_data"
    }
   ],
   "source": [
    "fig, ax = plt.subplots(figsize=(10,7))\n",
    "ax.hist((ddf['duration_min']).value_counts(), bins=100)\n",
    "\n",
    "ax.set_xlim(0, 100)\n",
    "ax.set_title('Délka trvání výpůjček kol (95 % hodnot)', fontsize=20)\n",
    "ax.set_xlabel('délka výpůjčky kola [min]', fontsize=15)\n",
    "ax.set_ylabel('počet výpůjček', fontsize=15)\n",
    "ax.grid()\n",
    "plt.show()"
   ]
  },
  {
   "cell_type": "markdown",
   "id": "693b2e7e-8bda-4d21-b432-c293eed9f648",
   "metadata": {
    "tags": []
   },
   "source": [
    "## Aktivní a neaktivní stanice ##"
   ]
  },
  {
   "cell_type": "code",
   "execution_count": 64,
   "id": "5d2b6bbc-5f36-42bd-9492-a6dc917f403c",
   "metadata": {},
   "outputs": [],
   "source": [
    "# List of all stations\n",
    "s1 = (ddf[['start_station_id', 'start_station_name']]\n",
    "      .rename(columns={'start_station_id': 'station_ID',\n",
    "                       'start_station_name': 'station_name'}))\n",
    "s2 = (ddf[['end_station_id', 'end_station_name']]\n",
    "      .rename(columns={'end_station_id': 'station_ID',\n",
    "                       'end_station_name': 'station_name'}))\n",
    "stations_df = (s1.append(s2)\n",
    "               .drop_duplicates(subset='station_ID')\n",
    "               .set_index('station_ID')\n",
    "               .sort_index())"
   ]
  },
  {
   "cell_type": "code",
   "execution_count": 65,
   "id": "66f5bb6a-8f62-4f0c-abc9-093418453605",
   "metadata": {},
   "outputs": [
    {
     "data": {
      "text/html": [
       "<div>\n",
       "<style scoped>\n",
       "    .dataframe tbody tr th:only-of-type {\n",
       "        vertical-align: middle;\n",
       "    }\n",
       "\n",
       "    .dataframe tbody tr th {\n",
       "        vertical-align: top;\n",
       "    }\n",
       "\n",
       "    .dataframe thead th {\n",
       "        text-align: right;\n",
       "    }\n",
       "</style>\n",
       "<table border=\"1\" class=\"dataframe\">\n",
       "  <thead>\n",
       "    <tr style=\"text-align: right;\">\n",
       "      <th></th>\n",
       "      <th>station_name</th>\n",
       "    </tr>\n",
       "    <tr>\n",
       "      <th>station_ID</th>\n",
       "      <th></th>\n",
       "    </tr>\n",
       "  </thead>\n",
       "  <tbody>\n",
       "    <tr>\n",
       "      <th>171</th>\n",
       "      <td>George Square</td>\n",
       "    </tr>\n",
       "    <tr>\n",
       "      <th>183</th>\n",
       "      <td>Waverley Bridge</td>\n",
       "    </tr>\n",
       "    <tr>\n",
       "      <th>189</th>\n",
       "      <td>City Chambers</td>\n",
       "    </tr>\n",
       "  </tbody>\n",
       "</table>\n",
       "</div>"
      ],
      "text/plain": [
       "               station_name\n",
       "station_ID                 \n",
       "171           George Square\n",
       "183         Waverley Bridge\n",
       "189           City Chambers"
      ]
     },
     "execution_count": 65,
     "metadata": {},
     "output_type": "execute_result"
    }
   ],
   "source": [
    "stations_df.head(3)"
   ]
  },
  {
   "cell_type": "code",
   "execution_count": 66,
   "id": "520662c1-66e9-4dd4-8f07-47e790f4f212",
   "metadata": {},
   "outputs": [
    {
     "data": {
      "text/html": [
       "<div>\n",
       "<style scoped>\n",
       "    .dataframe tbody tr th:only-of-type {\n",
       "        vertical-align: middle;\n",
       "    }\n",
       "\n",
       "    .dataframe tbody tr th {\n",
       "        vertical-align: top;\n",
       "    }\n",
       "\n",
       "    .dataframe thead th {\n",
       "        text-align: right;\n",
       "    }\n",
       "</style>\n",
       "<table border=\"1\" class=\"dataframe\">\n",
       "  <thead>\n",
       "    <tr style=\"text-align: right;\">\n",
       "      <th></th>\n",
       "      <th>station_name</th>\n",
       "      <th>departures_count</th>\n",
       "      <th>arrivals_count</th>\n",
       "      <th>total_count</th>\n",
       "    </tr>\n",
       "    <tr>\n",
       "      <th>station_ID</th>\n",
       "      <th></th>\n",
       "      <th></th>\n",
       "      <th></th>\n",
       "      <th></th>\n",
       "    </tr>\n",
       "  </thead>\n",
       "  <tbody>\n",
       "    <tr>\n",
       "      <th>250</th>\n",
       "      <td>Victoria Quay</td>\n",
       "      <td>10662</td>\n",
       "      <td>15254</td>\n",
       "      <td>25916</td>\n",
       "    </tr>\n",
       "    <tr>\n",
       "      <th>1728</th>\n",
       "      <td>Portobello - Kings Road</td>\n",
       "      <td>11843</td>\n",
       "      <td>16656</td>\n",
       "      <td>28499</td>\n",
       "    </tr>\n",
       "    <tr>\n",
       "      <th>265</th>\n",
       "      <td>Meadows East</td>\n",
       "      <td>17390</td>\n",
       "      <td>15225</td>\n",
       "      <td>32615</td>\n",
       "    </tr>\n",
       "  </tbody>\n",
       "</table>\n",
       "</div>"
      ],
      "text/plain": [
       "                       station_name  departures_count  arrivals_count  \\\n",
       "station_ID                                                              \n",
       "250                   Victoria Quay             10662           15254   \n",
       "1728        Portobello - Kings Road             11843           16656   \n",
       "265                    Meadows East             17390           15225   \n",
       "\n",
       "            total_count  \n",
       "station_ID               \n",
       "250               25916  \n",
       "1728              28499  \n",
       "265               32615  "
      ]
     },
     "execution_count": 66,
     "metadata": {},
     "output_type": "execute_result"
    }
   ],
   "source": [
    "activity_df = (stations_df\n",
    "               .assign(departures_count = ddf.groupby('start_station_id')\n",
    "                       .count()[['started_at']])\n",
    "               .assign(arrivals_count = ddf.groupby('end_station_id')\n",
    "                       .count()[['ended_at']])\n",
    "               .fillna(0)\n",
    "               .astype({'departures_count': int, 'arrivals_count': int}))\n",
    "activity_df['total_count'] = (activity_df['departures_count']\n",
    "                              + activity_df['arrivals_count'])\n",
    "activity_df = (activity_df.sort_values('total_count'))\n",
    " \n",
    "activity_df.tail(3)"
   ]
  },
  {
   "cell_type": "code",
   "execution_count": 67,
   "id": "c9258d40-6a5a-4b6e-84b3-4d53391848bf",
   "metadata": {},
   "outputs": [
    {
     "data": {
      "text/html": [
       "<div>\n",
       "<style scoped>\n",
       "    .dataframe tbody tr th:only-of-type {\n",
       "        vertical-align: middle;\n",
       "    }\n",
       "\n",
       "    .dataframe tbody tr th {\n",
       "        vertical-align: top;\n",
       "    }\n",
       "\n",
       "    .dataframe thead th {\n",
       "        text-align: right;\n",
       "    }\n",
       "</style>\n",
       "<table border=\"1\" class=\"dataframe\">\n",
       "  <thead>\n",
       "    <tr style=\"text-align: right;\">\n",
       "      <th></th>\n",
       "      <th>count</th>\n",
       "      <th>mean</th>\n",
       "      <th>std</th>\n",
       "      <th>min</th>\n",
       "      <th>5%</th>\n",
       "      <th>10%</th>\n",
       "      <th>25%</th>\n",
       "      <th>50%</th>\n",
       "      <th>75%</th>\n",
       "      <th>90%</th>\n",
       "      <th>95%</th>\n",
       "      <th>99%</th>\n",
       "      <th>max</th>\n",
       "    </tr>\n",
       "  </thead>\n",
       "  <tbody>\n",
       "    <tr>\n",
       "      <th>total_count</th>\n",
       "      <td>200</td>\n",
       "      <td>4383</td>\n",
       "      <td>5682</td>\n",
       "      <td>1</td>\n",
       "      <td>13</td>\n",
       "      <td>65</td>\n",
       "      <td>442</td>\n",
       "      <td>2171</td>\n",
       "      <td>5972</td>\n",
       "      <td>11053</td>\n",
       "      <td>16353</td>\n",
       "      <td>25942</td>\n",
       "      <td>32615</td>\n",
       "    </tr>\n",
       "  </tbody>\n",
       "</table>\n",
       "</div>"
      ],
      "text/plain": [
       "             count  mean   std  min  5%  10%  25%   50%   75%    90%    95%  \\\n",
       "total_count    200  4383  5682    1  13   65  442  2171  5972  11053  16353   \n",
       "\n",
       "               99%    max  \n",
       "total_count  25942  32615  "
      ]
     },
     "execution_count": 67,
     "metadata": {},
     "output_type": "execute_result"
    }
   ],
   "source": [
    "round(activity_df[['total_count']]\n",
    " .describe(percentiles=[.05, .10, .25, .50, .75, .90, .95, .99]),0).astype(int).T"
   ]
  },
  {
   "cell_type": "code",
   "execution_count": 68,
   "id": "aa25e13c-042d-4c7a-b10e-834d579546b2",
   "metadata": {},
   "outputs": [
    {
     "data": {
      "image/png": "[encoded data removed]",
      "text/plain": [
       "<Figure size 720x504 with 1 Axes>"
      ]
     },
     "metadata": {
      "needs_background": "light"
     },
     "output_type": "display_data"
    }
   ],
   "source": [
    "# lowest 10% - inactive\n",
    "fig, ax = plt.subplots(figsize=(10,7))\n",
    "activity_df[['total_count']].query('total_count < 64.8').plot.bar(ax=ax)\n",
    "\n",
    "ax.set_title('Neaktivní stanice: < 10% všech odjezdů a příjezdů', fontsize=15)\n",
    "ax.set_xlabel('ID stanice', fontsize=15)\n",
    "ax.set_ylabel('Celkem odjezdů a příjezdů', fontsize=15)\n",
    "ax.legend().remove()\n",
    "ax.grid()\n",
    "plt.show()"
   ]
  },
  {
   "cell_type": "code",
   "execution_count": 69,
   "id": "53aac0e7-a4ef-44ea-adca-740a2eebfbd6",
   "metadata": {},
   "outputs": [
    {
     "data": {
      "image/png": "[encoded data removed]",
      "text/plain": [
       "<Figure size 720x504 with 1 Axes>"
      ]
     },
     "metadata": {
      "needs_background": "light"
     },
     "output_type": "display_data"
    }
   ],
   "source": [
    "# highest 10% - most active\n",
    "fig, ax = plt.subplots(figsize=(10,7))\n",
    "activity_df[['total_count']].query('total_count > 11053').plot.bar(ax=ax)\n",
    "\n",
    "ax.set_title('Nejaktivnější stanice: > 90% všech odjezdů a příjezdů', fontsize=15)\n",
    "ax.set_xlabel('ID stanice', fontsize=15)\n",
    "ax.set_ylabel('Celkem odjezdů a příjezdů', fontsize=15)\n",
    "ax.legend().remove()\n",
    "ax.grid()\n",
    "plt.show()"
   ]
  },
  {
   "cell_type": "markdown",
   "id": "127ead4e-8c80-4a73-8d91-0c189d141e0c",
   "metadata": {
    "tags": []
   },
   "source": [
    "## Kde se kola hromadí a kde naopak chybí ##\n",
    "- Víc příjezdů než odjezdů a naopak"
   ]
  },
  {
   "cell_type": "code",
   "execution_count": 431,
   "id": "269c16e3-53be-4381-82cb-a9fb989af312",
   "metadata": {
    "tags": []
   },
   "outputs": [
    {
     "data": {
      "text/html": [
       "<div>\n",
       "<style scoped>\n",
       "    .dataframe tbody tr th:only-of-type {\n",
       "        vertical-align: middle;\n",
       "    }\n",
       "\n",
       "    .dataframe tbody tr th {\n",
       "        vertical-align: top;\n",
       "    }\n",
       "\n",
       "    .dataframe thead th {\n",
       "        text-align: right;\n",
       "    }\n",
       "</style>\n",
       "<table border=\"1\" class=\"dataframe\">\n",
       "  <thead>\n",
       "    <tr style=\"text-align: right;\">\n",
       "      <th></th>\n",
       "      <th>station_name</th>\n",
       "      <th>departures_count</th>\n",
       "      <th>arrivals_count</th>\n",
       "      <th>total_count</th>\n",
       "    </tr>\n",
       "    <tr>\n",
       "      <th>station_ID</th>\n",
       "      <th></th>\n",
       "      <th></th>\n",
       "      <th></th>\n",
       "      <th></th>\n",
       "    </tr>\n",
       "  </thead>\n",
       "  <tbody>\n",
       "    <tr>\n",
       "      <th>250</th>\n",
       "      <td>Victoria Quay</td>\n",
       "      <td>10662</td>\n",
       "      <td>15254</td>\n",
       "      <td>25916</td>\n",
       "    </tr>\n",
       "    <tr>\n",
       "      <th>1728</th>\n",
       "      <td>Portobello - Kings Road</td>\n",
       "      <td>11843</td>\n",
       "      <td>16656</td>\n",
       "      <td>28499</td>\n",
       "    </tr>\n",
       "    <tr>\n",
       "      <th>265</th>\n",
       "      <td>Meadows East</td>\n",
       "      <td>17390</td>\n",
       "      <td>15225</td>\n",
       "      <td>32615</td>\n",
       "    </tr>\n",
       "  </tbody>\n",
       "</table>\n",
       "</div>"
      ],
      "text/plain": [
       "                       station_name  departures_count  arrivals_count  \\\n",
       "station_ID                                                              \n",
       "250                   Victoria Quay             10662           15254   \n",
       "1728        Portobello - Kings Road             11843           16656   \n",
       "265                    Meadows East             17390           15225   \n",
       "\n",
       "            total_count  \n",
       "station_ID               \n",
       "250               25916  \n",
       "1728              28499  \n",
       "265               32615  "
      ]
     },
     "execution_count": 431,
     "metadata": {},
     "output_type": "execute_result"
    }
   ],
   "source": [
    "activity_df.tail(3)"
   ]
  },
  {
   "cell_type": "code",
   "execution_count": 432,
   "id": "d262c7fe-45e6-4475-92ec-3ca1d651f125",
   "metadata": {},
   "outputs": [
    {
     "data": {
      "text/html": [
       "<div>\n",
       "<style scoped>\n",
       "    .dataframe tbody tr th:only-of-type {\n",
       "        vertical-align: middle;\n",
       "    }\n",
       "\n",
       "    .dataframe tbody tr th {\n",
       "        vertical-align: top;\n",
       "    }\n",
       "\n",
       "    .dataframe thead th {\n",
       "        text-align: right;\n",
       "    }\n",
       "</style>\n",
       "<table border=\"1\" class=\"dataframe\">\n",
       "  <thead>\n",
       "    <tr style=\"text-align: right;\">\n",
       "      <th></th>\n",
       "      <th>station_name</th>\n",
       "      <th>total_count</th>\n",
       "      <th>increase</th>\n",
       "    </tr>\n",
       "    <tr>\n",
       "      <th>station_ID</th>\n",
       "      <th></th>\n",
       "      <th></th>\n",
       "      <th></th>\n",
       "    </tr>\n",
       "  </thead>\n",
       "  <tbody>\n",
       "    <tr>\n",
       "      <th>1728</th>\n",
       "      <td>Portobello - Kings Road</td>\n",
       "      <td>28499</td>\n",
       "      <td>4813</td>\n",
       "    </tr>\n",
       "    <tr>\n",
       "      <th>250</th>\n",
       "      <td>Victoria Quay</td>\n",
       "      <td>25916</td>\n",
       "      <td>4592</td>\n",
       "    </tr>\n",
       "    <tr>\n",
       "      <th>1824</th>\n",
       "      <td>Duke Street</td>\n",
       "      <td>18552</td>\n",
       "      <td>3976</td>\n",
       "    </tr>\n",
       "  </tbody>\n",
       "</table>\n",
       "</div>"
      ],
      "text/plain": [
       "                       station_name  total_count  increase\n",
       "station_ID                                                \n",
       "1728        Portobello - Kings Road        28499      4813\n",
       "250                   Victoria Quay        25916      4592\n",
       "1824                    Duke Street        18552      3976"
      ]
     },
     "execution_count": 432,
     "metadata": {},
     "output_type": "execute_result"
    }
   ],
   "source": [
    "# bike increase per station\n",
    "increase_df = (\n",
    "    activity_df[activity_df['arrivals_count'] > activity_df['departures_count']]\n",
    "    .iloc[:, [0,3]]\n",
    "    .assign(increase = activity_df['arrivals_count'] - activity_df['departures_count'])\n",
    "    .sort_values('increase', ascending=False)\n",
    ")\n",
    "increase_df.head(3)"
   ]
  },
  {
   "cell_type": "code",
   "execution_count": 433,
   "id": "046a2806-e39f-4d8f-856d-93eb0ab129b7",
   "metadata": {},
   "outputs": [
    {
     "data": {
      "text/html": [
       "<div>\n",
       "<style scoped>\n",
       "    .dataframe tbody tr th:only-of-type {\n",
       "        vertical-align: middle;\n",
       "    }\n",
       "\n",
       "    .dataframe tbody tr th {\n",
       "        vertical-align: top;\n",
       "    }\n",
       "\n",
       "    .dataframe thead th {\n",
       "        text-align: right;\n",
       "    }\n",
       "</style>\n",
       "<table border=\"1\" class=\"dataframe\">\n",
       "  <thead>\n",
       "    <tr style=\"text-align: right;\">\n",
       "      <th></th>\n",
       "      <th>station_name</th>\n",
       "      <th>total_count</th>\n",
       "      <th>decrease</th>\n",
       "    </tr>\n",
       "    <tr>\n",
       "      <th>station_ID</th>\n",
       "      <th></th>\n",
       "      <th></th>\n",
       "      <th></th>\n",
       "    </tr>\n",
       "  </thead>\n",
       "  <tbody>\n",
       "    <tr>\n",
       "      <th>248</th>\n",
       "      <td>Bristo Square</td>\n",
       "      <td>20744</td>\n",
       "      <td>4948</td>\n",
       "    </tr>\n",
       "    <tr>\n",
       "      <th>259</th>\n",
       "      <td>St Andrew Square</td>\n",
       "      <td>20590</td>\n",
       "      <td>3846</td>\n",
       "    </tr>\n",
       "    <tr>\n",
       "      <th>247</th>\n",
       "      <td>Charlotte Square</td>\n",
       "      <td>13114</td>\n",
       "      <td>3154</td>\n",
       "    </tr>\n",
       "  </tbody>\n",
       "</table>\n",
       "</div>"
      ],
      "text/plain": [
       "                station_name  total_count  decrease\n",
       "station_ID                                         \n",
       "248            Bristo Square        20744      4948\n",
       "259         St Andrew Square        20590      3846\n",
       "247         Charlotte Square        13114      3154"
      ]
     },
     "execution_count": 433,
     "metadata": {},
     "output_type": "execute_result"
    }
   ],
   "source": [
    "# bike decrease per station\n",
    "decrease_df = (\n",
    "    activity_df[activity_df['arrivals_count'] < activity_df['departures_count']]\n",
    "    .iloc[:, [0,3]]\n",
    "    .assign(decrease = activity_df['departures_count'] - activity_df['arrivals_count'])\n",
    "    .sort_values('decrease', ascending=False)\n",
    ")\n",
    "decrease_df.head(3)"
   ]
  },
  {
   "cell_type": "code",
   "execution_count": 434,
   "id": "a71a2b81-4d39-4640-bca2-668037b786eb",
   "metadata": {},
   "outputs": [],
   "source": [
    "# time difference between first and last record for each station\n",
    "\n",
    "# bike increase (arrivals):\n",
    "df = pd.DataFrame()\n",
    "for i in increase_df.index:\n",
    "    last = (ddf.query(f'end_station_id == {i}')[['ended_at']]\n",
    "            .sort_values('ended_at').iloc[-1])\n",
    "    first = (ddf.query(f'end_station_id == {i}')[['ended_at']]\n",
    "             .sort_values('ended_at').iloc[0])\n",
    "    row_df = (pd.DataFrame({'interval_days': (last[0]-first[0]).total_seconds()\n",
    "                            /3600/24}, index=[i]))\n",
    "    df = df.append(row_df)\n",
    "    \n",
    "# bike decrease (departures):\n",
    "for i in decrease_df.index:\n",
    "    last = (ddf.query(f'start_station_id == {i}')[['started_at']]\n",
    "            .sort_values('started_at').iloc[-1])\n",
    "    first = (ddf.query(f'start_station_id == {i}')[['started_at']]\n",
    "             .sort_values('started_at').iloc[0])\n",
    "    row_df = (pd.DataFrame({'interval_days': (last[0]-first[0]).total_seconds()\n",
    "                            /3600/24}, index=[i]))\n",
    "    df = df.append(row_df)    "
   ]
  },
  {
   "cell_type": "code",
   "execution_count": 435,
   "id": "6ee0090e-9a78-4db2-b1ca-c6c226aa6ad6",
   "metadata": {},
   "outputs": [],
   "source": [
    "increase_df = increase_df.join(df)\n",
    "decrease_df = decrease_df.join(df)"
   ]
  },
  {
   "cell_type": "code",
   "execution_count": 436,
   "id": "f9c9ee40-e5a3-49ff-993f-bc7aa35f8c9d",
   "metadata": {},
   "outputs": [],
   "source": [
    "increase_df['incr_per_day'] = increase_df.increase / increase_df.interval_days\n",
    "increase_df = (increase_df.sort_values('incr_per_day', ascending=False)\n",
    "                    .round(2))"
   ]
  },
  {
   "cell_type": "code",
   "execution_count": 437,
   "id": "8b592a1a-1466-4cf9-aeb8-738e271f3300",
   "metadata": {},
   "outputs": [],
   "source": [
    "decrease_df['decr_per_day'] = decrease_df.decrease / decrease_df.interval_days\n",
    "decrease_df = (decrease_df.sort_values('decr_per_day', ascending=False)\n",
    "               .round(2))"
   ]
  },
  {
   "cell_type": "code",
   "execution_count": 438,
   "id": "96944753-31eb-4344-93c5-262b32d7753d",
   "metadata": {},
   "outputs": [
    {
     "data": {
      "text/html": [
       "<div>\n",
       "<style scoped>\n",
       "    .dataframe tbody tr th:only-of-type {\n",
       "        vertical-align: middle;\n",
       "    }\n",
       "\n",
       "    .dataframe tbody tr th {\n",
       "        vertical-align: top;\n",
       "    }\n",
       "\n",
       "    .dataframe thead th {\n",
       "        text-align: right;\n",
       "    }\n",
       "</style>\n",
       "<table border=\"1\" class=\"dataframe\">\n",
       "  <thead>\n",
       "    <tr style=\"text-align: right;\">\n",
       "      <th></th>\n",
       "      <th>station_name</th>\n",
       "      <th>total_count</th>\n",
       "      <th>increase</th>\n",
       "      <th>interval_days</th>\n",
       "      <th>incr_per_day</th>\n",
       "    </tr>\n",
       "    <tr>\n",
       "      <th>station_ID</th>\n",
       "      <th></th>\n",
       "      <th></th>\n",
       "      <th></th>\n",
       "      <th></th>\n",
       "      <th></th>\n",
       "    </tr>\n",
       "  </thead>\n",
       "  <tbody>\n",
       "    <tr>\n",
       "      <th>1728</th>\n",
       "      <td>Portobello - Kings Road</td>\n",
       "      <td>28499</td>\n",
       "      <td>4813</td>\n",
       "      <td>615.47</td>\n",
       "      <td>7.82</td>\n",
       "    </tr>\n",
       "    <tr>\n",
       "      <th>1824</th>\n",
       "      <td>Duke Street</td>\n",
       "      <td>18552</td>\n",
       "      <td>3976</td>\n",
       "      <td>510.23</td>\n",
       "      <td>7.79</td>\n",
       "    </tr>\n",
       "    <tr>\n",
       "      <th>820</th>\n",
       "      <td>Newkirkgate</td>\n",
       "      <td>3768</td>\n",
       "      <td>894</td>\n",
       "      <td>123.94</td>\n",
       "      <td>7.21</td>\n",
       "    </tr>\n",
       "  </tbody>\n",
       "</table>\n",
       "</div>"
      ],
      "text/plain": [
       "                       station_name  total_count  increase  interval_days  \\\n",
       "station_ID                                                                  \n",
       "1728        Portobello - Kings Road        28499      4813         615.47   \n",
       "1824                    Duke Street        18552      3976         510.23   \n",
       "820                     Newkirkgate         3768       894         123.94   \n",
       "\n",
       "            incr_per_day  \n",
       "station_ID                \n",
       "1728                7.82  \n",
       "1824                7.79  \n",
       "820                 7.21  "
      ]
     },
     "execution_count": 438,
     "metadata": {},
     "output_type": "execute_result"
    }
   ],
   "source": [
    "# filter criteria for bike increments\n",
    "increase_df = increase_df.query('interval_days > 30 and incr_per_day > 1')\n",
    "increase_df.head(3)"
   ]
  },
  {
   "cell_type": "code",
   "execution_count": 439,
   "id": "9f3ad03b-2ac1-44c9-912e-f73bf1c913b3",
   "metadata": {},
   "outputs": [
    {
     "data": {
      "text/html": [
       "<div>\n",
       "<style scoped>\n",
       "    .dataframe tbody tr th:only-of-type {\n",
       "        vertical-align: middle;\n",
       "    }\n",
       "\n",
       "    .dataframe tbody tr th {\n",
       "        vertical-align: top;\n",
       "    }\n",
       "\n",
       "    .dataframe thead th {\n",
       "        text-align: right;\n",
       "    }\n",
       "</style>\n",
       "<table border=\"1\" class=\"dataframe\">\n",
       "  <thead>\n",
       "    <tr style=\"text-align: right;\">\n",
       "      <th></th>\n",
       "      <th>station_name</th>\n",
       "      <th>total_count</th>\n",
       "      <th>decrease</th>\n",
       "      <th>interval_days</th>\n",
       "      <th>decr_per_day</th>\n",
       "    </tr>\n",
       "    <tr>\n",
       "      <th>station_ID</th>\n",
       "      <th></th>\n",
       "      <th></th>\n",
       "      <th></th>\n",
       "      <th></th>\n",
       "      <th></th>\n",
       "    </tr>\n",
       "  </thead>\n",
       "  <tbody>\n",
       "    <tr>\n",
       "      <th>248</th>\n",
       "      <td>Bristo Square</td>\n",
       "      <td>20744</td>\n",
       "      <td>4948</td>\n",
       "      <td>1017.41</td>\n",
       "      <td>4.86</td>\n",
       "    </tr>\n",
       "    <tr>\n",
       "      <th>1767</th>\n",
       "      <td>Bruntsfield Links</td>\n",
       "      <td>11373</td>\n",
       "      <td>2629</td>\n",
       "      <td>566.01</td>\n",
       "      <td>4.64</td>\n",
       "    </tr>\n",
       "    <tr>\n",
       "      <th>259</th>\n",
       "      <td>St Andrew Square</td>\n",
       "      <td>20590</td>\n",
       "      <td>3846</td>\n",
       "      <td>1019.46</td>\n",
       "      <td>3.77</td>\n",
       "    </tr>\n",
       "  </tbody>\n",
       "</table>\n",
       "</div>"
      ],
      "text/plain": [
       "                 station_name  total_count  decrease  interval_days  \\\n",
       "station_ID                                                            \n",
       "248             Bristo Square        20744      4948        1017.41   \n",
       "1767        Bruntsfield Links        11373      2629         566.01   \n",
       "259          St Andrew Square        20590      3846        1019.46   \n",
       "\n",
       "            decr_per_day  \n",
       "station_ID                \n",
       "248                 4.86  \n",
       "1767                4.64  \n",
       "259                 3.77  "
      ]
     },
     "execution_count": 439,
     "metadata": {},
     "output_type": "execute_result"
    }
   ],
   "source": [
    "# filter criteria for bike decrements\n",
    "decrease_df = decrease_df.query('interval_days > 30 and decr_per_day > 1')\n",
    "decrease_df.head(3)"
   ]
  },
  {
   "cell_type": "code",
   "execution_count": 443,
   "id": "613188a3-dc88-4208-90be-e14c6d1fa853",
   "metadata": {},
   "outputs": [
    {
     "data": {
      "image/png": "[encoded data removed]",
      "text/plain": [
       "<Figure size 720x504 with 1 Axes>"
      ]
     },
     "metadata": {
      "needs_background": "light"
     },
     "output_type": "display_data"
    }
   ],
   "source": [
    "# interval_days > 30 and incr_per_day > 1\n",
    "fig, ax = plt.subplots(figsize=(10,7))\n",
    "increase_df.incr_per_day.plot.bar(ax=ax)\n",
    " \n",
    "ax.set_title('Stanice, kde se kola hromadí (> 1 přírůstek kola za den)', fontsize=15)\n",
    "ax.set_xlabel('ID stanice', fontsize=15)\n",
    "ax.set_ylabel('Přírůstek kol za den', fontsize=15)\n",
    "ax.legend().remove()\n",
    "ax.grid()\n",
    "plt.show()"
   ]
  },
  {
   "cell_type": "code",
   "execution_count": 444,
   "id": "f9fa70e5-231c-4288-bc86-61e227867f42",
   "metadata": {
    "tags": []
   },
   "outputs": [
    {
     "data": {
      "image/png": "[encoded data removed]",
      "text/plain": [
       "<Figure size 720x504 with 1 Axes>"
      ]
     },
     "metadata": {
      "needs_background": "light"
     },
     "output_type": "display_data"
    }
   ],
   "source": [
    "# interval_days > 30 and decr_per_day > 1\n",
    "fig, ax = plt.subplots(figsize=(10,7))\n",
    "decrease_df.decr_per_day.plot.bar(ax=ax)\n",
    " \n",
    "ax.set_title('Stanice, kde kola ubývají (> 1 úbytek kola za den)', fontsize=15)\n",
    "ax.set_xlabel('ID stanice', fontsize=15)\n",
    "ax.set_ylabel('Úbytek kol za den', fontsize=15)\n",
    "ax.legend().remove()\n",
    "ax.grid()\n",
    "plt.show()"
   ]
  },
  {
   "cell_type": "code",
   "execution_count": 446,
   "id": "c1ff125d-8a4d-4769-aa6d-1917c08df274",
   "metadata": {},
   "outputs": [
    {
     "data": {
      "text/html": [
       "<div>\n",
       "<style scoped>\n",
       "    .dataframe tbody tr th:only-of-type {\n",
       "        vertical-align: middle;\n",
       "    }\n",
       "\n",
       "    .dataframe tbody tr th {\n",
       "        vertical-align: top;\n",
       "    }\n",
       "\n",
       "    .dataframe thead th {\n",
       "        text-align: right;\n",
       "    }\n",
       "</style>\n",
       "<table border=\"1\" class=\"dataframe\">\n",
       "  <thead>\n",
       "    <tr style=\"text-align: right;\">\n",
       "      <th></th>\n",
       "      <th>started_at</th>\n",
       "      <th>ended_at</th>\n",
       "      <th>duration_min</th>\n",
       "      <th>start_station_id</th>\n",
       "      <th>start_station_name</th>\n",
       "      <th>start_station_description</th>\n",
       "      <th>start_station_latitude</th>\n",
       "      <th>start_station_longitude</th>\n",
       "      <th>end_station_id</th>\n",
       "      <th>end_station_name</th>\n",
       "      <th>end_station_description</th>\n",
       "      <th>end_station_latitude</th>\n",
       "      <th>end_station_longitude</th>\n",
       "    </tr>\n",
       "  </thead>\n",
       "  <tbody>\n",
       "    <tr>\n",
       "      <th>0</th>\n",
       "      <td>2018-09-15 08:52:05</td>\n",
       "      <td>2018-09-15 09:11:48</td>\n",
       "      <td>19.700000</td>\n",
       "      <td>247</td>\n",
       "      <td>Charlotte Square</td>\n",
       "      <td>North Corner of Charlotte Square</td>\n",
       "      <td>55.952335</td>\n",
       "      <td>-3.207101</td>\n",
       "      <td>259</td>\n",
       "      <td>St Andrew Square</td>\n",
       "      <td>North East corner</td>\n",
       "      <td>55.954728</td>\n",
       "      <td>-3.192653</td>\n",
       "    </tr>\n",
       "    <tr>\n",
       "      <th>1</th>\n",
       "      <td>2018-09-15 09:24:33</td>\n",
       "      <td>2018-09-15 09:41:09</td>\n",
       "      <td>16.583333</td>\n",
       "      <td>259</td>\n",
       "      <td>St Andrew Square</td>\n",
       "      <td>North East corner</td>\n",
       "      <td>55.954749</td>\n",
       "      <td>-3.192774</td>\n",
       "      <td>262</td>\n",
       "      <td>Canonmills</td>\n",
       "      <td>near Tesco's</td>\n",
       "      <td>55.962804</td>\n",
       "      <td>-3.196284</td>\n",
       "    </tr>\n",
       "    <tr>\n",
       "      <th>2</th>\n",
       "      <td>2018-09-15 09:48:54</td>\n",
       "      <td>2018-09-15 10:46:40</td>\n",
       "      <td>57.766667</td>\n",
       "      <td>262</td>\n",
       "      <td>Canonmills</td>\n",
       "      <td>near Tesco's</td>\n",
       "      <td>55.962804</td>\n",
       "      <td>-3.196284</td>\n",
       "      <td>250</td>\n",
       "      <td>Victoria Quay</td>\n",
       "      <td>Entrance to Scottish Government Office</td>\n",
       "      <td>55.977638</td>\n",
       "      <td>-3.174116</td>\n",
       "    </tr>\n",
       "  </tbody>\n",
       "</table>\n",
       "</div>"
      ],
      "text/plain": [
       "           started_at            ended_at  duration_min  start_station_id  \\\n",
       "0 2018-09-15 08:52:05 2018-09-15 09:11:48     19.700000               247   \n",
       "1 2018-09-15 09:24:33 2018-09-15 09:41:09     16.583333               259   \n",
       "2 2018-09-15 09:48:54 2018-09-15 10:46:40     57.766667               262   \n",
       "\n",
       "  start_station_name         start_station_description  \\\n",
       "0   Charlotte Square  North Corner of Charlotte Square   \n",
       "1   St Andrew Square                 North East corner   \n",
       "2         Canonmills                      near Tesco's   \n",
       "\n",
       "   start_station_latitude  start_station_longitude  end_station_id  \\\n",
       "0               55.952335                -3.207101             259   \n",
       "1               55.954749                -3.192774             262   \n",
       "2               55.962804                -3.196284             250   \n",
       "\n",
       "   end_station_name                 end_station_description  \\\n",
       "0  St Andrew Square                       North East corner   \n",
       "1        Canonmills                            near Tesco's   \n",
       "2     Victoria Quay  Entrance to Scottish Government Office   \n",
       "\n",
       "   end_station_latitude  end_station_longitude  \n",
       "0             55.954728              -3.192653  \n",
       "1             55.962804              -3.196284  \n",
       "2             55.977638              -3.174116  "
      ]
     },
     "execution_count": 446,
     "metadata": {},
     "output_type": "execute_result"
    }
   ],
   "source": [
    "ddf.head(3)"
   ]
  },
  {
   "cell_type": "code",
   "execution_count": 559,
   "id": "d91694fc-dc11-4c97-890c-b8680d233ab5",
   "metadata": {},
   "outputs": [
    {
     "data": {
      "text/html": [
       "<div>\n",
       "<style scoped>\n",
       "    .dataframe tbody tr th:only-of-type {\n",
       "        vertical-align: middle;\n",
       "    }\n",
       "\n",
       "    .dataframe tbody tr th {\n",
       "        vertical-align: top;\n",
       "    }\n",
       "\n",
       "    .dataframe thead th {\n",
       "        text-align: right;\n",
       "    }\n",
       "</style>\n",
       "<table border=\"1\" class=\"dataframe\">\n",
       "  <thead>\n",
       "    <tr style=\"text-align: right;\">\n",
       "      <th></th>\n",
       "      <th>station_name</th>\n",
       "    </tr>\n",
       "    <tr>\n",
       "      <th>station_ID</th>\n",
       "      <th></th>\n",
       "    </tr>\n",
       "  </thead>\n",
       "  <tbody>\n",
       "    <tr>\n",
       "      <th>171</th>\n",
       "      <td>George Square</td>\n",
       "    </tr>\n",
       "    <tr>\n",
       "      <th>183</th>\n",
       "      <td>Waverley Bridge</td>\n",
       "    </tr>\n",
       "    <tr>\n",
       "      <th>189</th>\n",
       "      <td>City Chambers</td>\n",
       "    </tr>\n",
       "  </tbody>\n",
       "</table>\n",
       "</div>"
      ],
      "text/plain": [
       "               station_name\n",
       "station_ID                 \n",
       "171           George Square\n",
       "183         Waverley Bridge\n",
       "189           City Chambers"
      ]
     },
     "execution_count": 559,
     "metadata": {},
     "output_type": "execute_result"
    }
   ],
   "source": [
    "stations_df.head(3)"
   ]
  },
  {
   "cell_type": "code",
   "execution_count": 560,
   "id": "c6aa73c8-75da-4b74-be9e-13b39b8f1b58",
   "metadata": {},
   "outputs": [
    {
     "data": {
      "text/plain": [
       "station_name    200\n",
       "dtype: int64"
      ]
     },
     "execution_count": 560,
     "metadata": {},
     "output_type": "execute_result"
    }
   ],
   "source": [
    "stations_df.count()"
   ]
  },
  {
   "cell_type": "code",
   "execution_count": 570,
   "id": "6665b1c5-f875-4c1d-a50d-03bf225717ae",
   "metadata": {},
   "outputs": [
    {
     "data": {
      "text/plain": [
       "latitude     221\n",
       "longitude    221\n",
       "dtype: int64"
      ]
     },
     "execution_count": 570,
     "metadata": {},
     "output_type": "execute_result"
    }
   ],
   "source": [
    "df1 = (ddf[['start_station_id', 'start_station_latitude', 'start_station_longitude']]\n",
    " .rename(columns={'start_station_latitude': 'latitude', 'start_station_longitude': 'longitude'})\n",
    " .set_index('start_station_id')\n",
    " .drop_duplicates())\n",
    "df1.count()"
   ]
  },
  {
   "cell_type": "code",
   "execution_count": 587,
   "id": "714dfb74-2116-4e30-81c7-b45faab6dc55",
   "metadata": {},
   "outputs": [],
   "source": [
    "# duplicate coordinates for station IDs\n",
    "duplicate_id_mask = df1.index.duplicated()\n",
    "duplicate_id = df1.index[duplicate_id_mask]\n",
    "    # small differences - will be averaged\n",
    "#(df1.loc[duplicate_id].sort_index().groupby('start_station_id').diff().dropna()*1000).round(10)"
   ]
  },
  {
   "cell_type": "code",
   "execution_count": 592,
   "id": "83582bb2-b215-4d8e-b789-1c4c00db438f",
   "metadata": {},
   "outputs": [
    {
     "data": {
      "text/html": [
       "<div>\n",
       "<style scoped>\n",
       "    .dataframe tbody tr th:only-of-type {\n",
       "        vertical-align: middle;\n",
       "    }\n",
       "\n",
       "    .dataframe tbody tr th {\n",
       "        vertical-align: top;\n",
       "    }\n",
       "\n",
       "    .dataframe thead th {\n",
       "        text-align: right;\n",
       "    }\n",
       "</style>\n",
       "<table border=\"1\" class=\"dataframe\">\n",
       "  <thead>\n",
       "    <tr style=\"text-align: right;\">\n",
       "      <th></th>\n",
       "      <th>latitude</th>\n",
       "      <th>longitude</th>\n",
       "    </tr>\n",
       "    <tr>\n",
       "      <th>start_station_id</th>\n",
       "      <th></th>\n",
       "      <th></th>\n",
       "    </tr>\n",
       "  </thead>\n",
       "  <tbody>\n",
       "    <tr>\n",
       "      <th>171</th>\n",
       "      <td>55.943084</td>\n",
       "      <td>-3.188311</td>\n",
       "    </tr>\n",
       "    <tr>\n",
       "      <th>183</th>\n",
       "      <td>55.951663</td>\n",
       "      <td>-3.191656</td>\n",
       "    </tr>\n",
       "    <tr>\n",
       "      <th>189</th>\n",
       "      <td>55.950109</td>\n",
       "      <td>-3.190258</td>\n",
       "    </tr>\n",
       "  </tbody>\n",
       "</table>\n",
       "</div>"
      ],
      "text/plain": [
       "                   latitude  longitude\n",
       "start_station_id                      \n",
       "171               55.943084  -3.188311\n",
       "183               55.951663  -3.191656\n",
       "189               55.950109  -3.190258"
      ]
     },
     "execution_count": 592,
     "metadata": {},
     "output_type": "execute_result"
    }
   ],
   "source": [
    "df1 = df1.groupby('start_station_id').mean()\n",
    "df1.head(3)"
   ]
  },
  {
   "cell_type": "code",
   "execution_count": 594,
   "id": "ebb86730-a57d-414f-80e0-15e099ff8c92",
   "metadata": {},
   "outputs": [],
   "source": [
    "df2 = (ddf[['end_station_id', 'end_station_latitude', 'end_station_longitude']]\n",
    " .rename(columns={'end_station_latitude': 'latitude', 'end_station_longitude': 'longitude'})\n",
    " .set_index('end_station_id')\n",
    " .drop_duplicates())"
   ]
  },
  {
   "cell_type": "code",
   "execution_count": 599,
   "id": "a2de50aa-4ecc-47a8-b9c7-79cc835f1902",
   "metadata": {},
   "outputs": [],
   "source": [
    "# duplicate coordinates for station IDs\n",
    "duplicate_id_mask = df2.index.duplicated()\n",
    "duplicate_id = df2.index[duplicate_id_mask]\n",
    "    # small differences - will be averaged\n",
    "#(df2.loc[duplicate_id].sort_index().groupby('end_station_id').diff().dropna()*1000).round(10)"
   ]
  },
  {
   "cell_type": "code",
   "execution_count": 600,
   "id": "ac685ca9-bb4e-40bb-a5bc-b26405e9fe9d",
   "metadata": {},
   "outputs": [
    {
     "data": {
      "text/html": [
       "<div>\n",
       "<style scoped>\n",
       "    .dataframe tbody tr th:only-of-type {\n",
       "        vertical-align: middle;\n",
       "    }\n",
       "\n",
       "    .dataframe tbody tr th {\n",
       "        vertical-align: top;\n",
       "    }\n",
       "\n",
       "    .dataframe thead th {\n",
       "        text-align: right;\n",
       "    }\n",
       "</style>\n",
       "<table border=\"1\" class=\"dataframe\">\n",
       "  <thead>\n",
       "    <tr style=\"text-align: right;\">\n",
       "      <th></th>\n",
       "      <th>latitude</th>\n",
       "      <th>longitude</th>\n",
       "    </tr>\n",
       "    <tr>\n",
       "      <th>end_station_id</th>\n",
       "      <th></th>\n",
       "      <th></th>\n",
       "    </tr>\n",
       "  </thead>\n",
       "  <tbody>\n",
       "    <tr>\n",
       "      <th>171</th>\n",
       "      <td>55.943084</td>\n",
       "      <td>-3.188311</td>\n",
       "    </tr>\n",
       "    <tr>\n",
       "      <th>183</th>\n",
       "      <td>55.951663</td>\n",
       "      <td>-3.191656</td>\n",
       "    </tr>\n",
       "    <tr>\n",
       "      <th>189</th>\n",
       "      <td>55.950109</td>\n",
       "      <td>-3.190258</td>\n",
       "    </tr>\n",
       "  </tbody>\n",
       "</table>\n",
       "</div>"
      ],
      "text/plain": [
       "                 latitude  longitude\n",
       "end_station_id                      \n",
       "171             55.943084  -3.188311\n",
       "183             55.951663  -3.191656\n",
       "189             55.950109  -3.190258"
      ]
     },
     "execution_count": 600,
     "metadata": {},
     "output_type": "execute_result"
    }
   ],
   "source": [
    "df2 = df2.groupby('end_station_id').mean()\n",
    "df2.head(3)"
   ]
  },
  {
   "cell_type": "code",
   "execution_count": 607,
   "id": "76278016-aa8b-4d89-9fea-17f06e15c680",
   "metadata": {},
   "outputs": [
    {
     "data": {
      "text/html": [
       "<div>\n",
       "<style scoped>\n",
       "    .dataframe tbody tr th:only-of-type {\n",
       "        vertical-align: middle;\n",
       "    }\n",
       "\n",
       "    .dataframe tbody tr th {\n",
       "        vertical-align: top;\n",
       "    }\n",
       "\n",
       "    .dataframe thead th {\n",
       "        text-align: right;\n",
       "    }\n",
       "</style>\n",
       "<table border=\"1\" class=\"dataframe\">\n",
       "  <thead>\n",
       "    <tr style=\"text-align: right;\">\n",
       "      <th></th>\n",
       "      <th>latitude</th>\n",
       "      <th>longitude</th>\n",
       "    </tr>\n",
       "  </thead>\n",
       "  <tbody>\n",
       "    <tr>\n",
       "      <th>171</th>\n",
       "      <td>55.943084</td>\n",
       "      <td>-3.188311</td>\n",
       "    </tr>\n",
       "    <tr>\n",
       "      <th>183</th>\n",
       "      <td>55.951663</td>\n",
       "      <td>-3.191656</td>\n",
       "    </tr>\n",
       "    <tr>\n",
       "      <th>189</th>\n",
       "      <td>55.950109</td>\n",
       "      <td>-3.190258</td>\n",
       "    </tr>\n",
       "    <tr>\n",
       "      <th>225</th>\n",
       "      <td>55.951734</td>\n",
       "      <td>-3.184179</td>\n",
       "    </tr>\n",
       "    <tr>\n",
       "      <th>241</th>\n",
       "      <td>55.972373</td>\n",
       "      <td>-3.155833</td>\n",
       "    </tr>\n",
       "    <tr>\n",
       "      <th>...</th>\n",
       "      <td>...</td>\n",
       "      <td>...</td>\n",
       "    </tr>\n",
       "    <tr>\n",
       "      <th>2265</th>\n",
       "      <td>55.943985</td>\n",
       "      <td>-3.058400</td>\n",
       "    </tr>\n",
       "    <tr>\n",
       "      <th>2268</th>\n",
       "      <td>55.956535</td>\n",
       "      <td>-3.186248</td>\n",
       "    </tr>\n",
       "    <tr>\n",
       "      <th>242</th>\n",
       "      <td>55.972402</td>\n",
       "      <td>-3.155794</td>\n",
       "    </tr>\n",
       "    <tr>\n",
       "      <th>259</th>\n",
       "      <td>55.954794</td>\n",
       "      <td>-3.192623</td>\n",
       "    </tr>\n",
       "    <tr>\n",
       "      <th>280</th>\n",
       "      <td>53.395525</td>\n",
       "      <td>-2.990138</td>\n",
       "    </tr>\n",
       "  </tbody>\n",
       "</table>\n",
       "<p>201 rows × 2 columns</p>\n",
       "</div>"
      ],
      "text/plain": [
       "       latitude  longitude\n",
       "171   55.943084  -3.188311\n",
       "183   55.951663  -3.191656\n",
       "189   55.950109  -3.190258\n",
       "225   55.951734  -3.184179\n",
       "241   55.972373  -3.155833\n",
       "...         ...        ...\n",
       "2265  55.943985  -3.058400\n",
       "2268  55.956535  -3.186248\n",
       "242   55.972402  -3.155794\n",
       "259   55.954794  -3.192623\n",
       "280   53.395525  -2.990138\n",
       "\n",
       "[201 rows x 2 columns]"
      ]
     },
     "execution_count": 607,
     "metadata": {},
     "output_type": "execute_result"
    }
   ],
   "source": [
    "df1.append(df2).drop_duplicates()"
   ]
  },
  {
   "cell_type": "markdown",
   "id": "fa66ae69-2f1f-440d-8a5c-625744586128",
   "metadata": {},
   "source": [
    "## Vývoj poptávky po půjčování kol v čase ##"
   ]
  },
  {
   "cell_type": "code",
   "execution_count": 795,
   "id": "de70f829-a15d-4055-ba18-3e40c8f9047a",
   "metadata": {},
   "outputs": [
    {
     "data": {
      "text/html": [
       "<div>\n",
       "<style scoped>\n",
       "    .dataframe tbody tr th:only-of-type {\n",
       "        vertical-align: middle;\n",
       "    }\n",
       "\n",
       "    .dataframe tbody tr th {\n",
       "        vertical-align: top;\n",
       "    }\n",
       "\n",
       "    .dataframe thead th {\n",
       "        text-align: right;\n",
       "    }\n",
       "</style>\n",
       "<table border=\"1\" class=\"dataframe\">\n",
       "  <thead>\n",
       "    <tr style=\"text-align: right;\">\n",
       "      <th></th>\n",
       "      <th>started_at</th>\n",
       "    </tr>\n",
       "  </thead>\n",
       "  <tbody>\n",
       "    <tr>\n",
       "      <th>0</th>\n",
       "      <td>2018-09-15 08:52:05</td>\n",
       "    </tr>\n",
       "    <tr>\n",
       "      <th>1</th>\n",
       "      <td>2018-09-15 09:24:33</td>\n",
       "    </tr>\n",
       "    <tr>\n",
       "      <th>2</th>\n",
       "      <td>2018-09-15 09:48:54</td>\n",
       "    </tr>\n",
       "  </tbody>\n",
       "</table>\n",
       "</div>"
      ],
      "text/plain": [
       "           started_at\n",
       "0 2018-09-15 08:52:05\n",
       "1 2018-09-15 09:24:33\n",
       "2 2018-09-15 09:48:54"
      ]
     },
     "execution_count": 795,
     "metadata": {},
     "output_type": "execute_result"
    }
   ],
   "source": [
    "df1 = ddf[['started_at']]\n",
    "df1.head(3)"
   ]
  },
  {
   "cell_type": "code",
   "execution_count": 796,
   "id": "0a92afc0-8570-44f3-b3b4-5fd1409d4fec",
   "metadata": {},
   "outputs": [],
   "source": [
    "df1 = df1.groupby(df1['started_at'].dt.date).count()"
   ]
  },
  {
   "cell_type": "code",
   "execution_count": 797,
   "id": "8d42f188-cb03-40e5-a4c7-4ba76e7d4f99",
   "metadata": {},
   "outputs": [
    {
     "data": {
      "text/html": [
       "<div>\n",
       "<style scoped>\n",
       "    .dataframe tbody tr th:only-of-type {\n",
       "        vertical-align: middle;\n",
       "    }\n",
       "\n",
       "    .dataframe tbody tr th {\n",
       "        vertical-align: top;\n",
       "    }\n",
       "\n",
       "    .dataframe thead th {\n",
       "        text-align: right;\n",
       "    }\n",
       "</style>\n",
       "<table border=\"1\" class=\"dataframe\">\n",
       "  <thead>\n",
       "    <tr style=\"text-align: right;\">\n",
       "      <th></th>\n",
       "      <th>count</th>\n",
       "    </tr>\n",
       "    <tr>\n",
       "      <th>date</th>\n",
       "      <th></th>\n",
       "    </tr>\n",
       "  </thead>\n",
       "  <tbody>\n",
       "    <tr>\n",
       "      <th>2018-09-15</th>\n",
       "      <td>3</td>\n",
       "    </tr>\n",
       "    <tr>\n",
       "      <th>2018-09-16</th>\n",
       "      <td>10</td>\n",
       "    </tr>\n",
       "    <tr>\n",
       "      <th>2018-09-17</th>\n",
       "      <td>403</td>\n",
       "    </tr>\n",
       "  </tbody>\n",
       "</table>\n",
       "</div>"
      ],
      "text/plain": [
       "            count\n",
       "date             \n",
       "2018-09-15      3\n",
       "2018-09-16     10\n",
       "2018-09-17    403"
      ]
     },
     "execution_count": 797,
     "metadata": {},
     "output_type": "execute_result"
    }
   ],
   "source": [
    "# number of departures for each day\n",
    "df1.index.name = 'date'\n",
    "df1.rename(columns={'started_at': 'count'}, inplace=True)\n",
    "df1 = df1.sort_index()\n",
    "df1.head(3)"
   ]
  },
  {
   "cell_type": "code",
   "execution_count": 802,
   "id": "462d0c72-cf5d-468d-955b-1a8d9a2b4ee2",
   "metadata": {},
   "outputs": [
    {
     "data": {
      "image/png": "[encoded data removed]",
      "text/plain": [
       "<Figure size 1080x504 with 1 Axes>"
      ]
     },
     "metadata": {
      "needs_background": "light"
     },
     "output_type": "display_data"
    }
   ],
   "source": [
    "# rolling 7-day mean\n",
    "fig, ax = plt.subplots(figsize=(15,7))\n",
    "df1.rolling(7).mean().plot(ax=ax)\n",
    " \n",
    "ax.set_title('Vývoj poptávky po půjčování kol v čase (7denní klouzavý průměr)', fontsize=15)\n",
    "ax.set_xlabel('Čas', fontsize=15)\n",
    "ax.set_ylabel('Počet výpůjček', fontsize=15)\n",
    "ax.legend().remove()\n",
    "ax.grid()\n",
    "plt.show()"
   ]
  },
  {
   "cell_type": "code",
   "execution_count": 799,
   "id": "37efb4a8-dcdd-45ec-9d71-b6a530b78189",
   "metadata": {},
   "outputs": [
    {
     "data": {
      "text/html": [
       "<div>\n",
       "<style scoped>\n",
       "    .dataframe tbody tr th:only-of-type {\n",
       "        vertical-align: middle;\n",
       "    }\n",
       "\n",
       "    .dataframe tbody tr th {\n",
       "        vertical-align: top;\n",
       "    }\n",
       "\n",
       "    .dataframe thead th {\n",
       "        text-align: right;\n",
       "    }\n",
       "</style>\n",
       "<table border=\"1\" class=\"dataframe\">\n",
       "  <thead>\n",
       "    <tr style=\"text-align: right;\">\n",
       "      <th></th>\n",
       "      <th>count</th>\n",
       "    </tr>\n",
       "    <tr>\n",
       "      <th>weekday</th>\n",
       "      <th></th>\n",
       "    </tr>\n",
       "  </thead>\n",
       "  <tbody>\n",
       "    <tr>\n",
       "      <th>Monday</th>\n",
       "      <td>57949</td>\n",
       "    </tr>\n",
       "    <tr>\n",
       "      <th>Tuesday</th>\n",
       "      <td>58662</td>\n",
       "    </tr>\n",
       "    <tr>\n",
       "      <th>Wednesday</th>\n",
       "      <td>59605</td>\n",
       "    </tr>\n",
       "    <tr>\n",
       "      <th>Thursday</th>\n",
       "      <td>60809</td>\n",
       "    </tr>\n",
       "    <tr>\n",
       "      <th>Friday</th>\n",
       "      <td>63339</td>\n",
       "    </tr>\n",
       "    <tr>\n",
       "      <th>Saturday</th>\n",
       "      <td>70865</td>\n",
       "    </tr>\n",
       "    <tr>\n",
       "      <th>Sunday</th>\n",
       "      <td>67030</td>\n",
       "    </tr>\n",
       "  </tbody>\n",
       "</table>\n",
       "</div>"
      ],
      "text/plain": [
       "           count\n",
       "weekday         \n",
       "Monday     57949\n",
       "Tuesday    58662\n",
       "Wednesday  59605\n",
       "Thursday   60809\n",
       "Friday     63339\n",
       "Saturday   70865\n",
       "Sunday     67030"
      ]
     },
     "execution_count": 799,
     "metadata": {},
     "output_type": "execute_result"
    }
   ],
   "source": [
    "df2 = ddf[['started_at']]\n",
    "df2 = df2.groupby(df2['started_at'].dt.weekday).count()\n",
    "\n",
    "# number of departures for each weekday (Monday=0, Sunday=6)\n",
    "df2.index.name = 'weekday'\n",
    "df2.rename(columns={'started_at': 'count'}, inplace=True)\n",
    "df2.rename(index={0: 'Monday', 1: 'Tuesday', 2: 'Wednesday', 3: 'Thursday', 4: 'Friday', 5: 'Saturday', 6: 'Sunday'}, inplace=True)\n",
    "df2"
   ]
  },
  {
   "cell_type": "code",
   "execution_count": 800,
   "id": "a417dccb-e5b0-4102-a608-68481c03eedc",
   "metadata": {},
   "outputs": [
    {
     "data": {
      "image/png": "[encoded data removed]",
      "text/plain": [
       "<Figure size 720x504 with 1 Axes>"
      ]
     },
     "metadata": {
      "needs_background": "light"
     },
     "output_type": "display_data"
    }
   ],
   "source": [
    "fig, ax = plt.subplots(figsize=(10,7))\n",
    "df2.plot.bar(ax=ax)\n",
    " \n",
    "ax.set_title('Počet výpůjček podle dnů v týdnu', fontsize=15)\n",
    "ax.set_xlabel('Den v týdnu', fontsize=15)\n",
    "ax.set_ylabel('Počet výpůjček', fontsize=15)\n",
    "ax.legend().remove()\n",
    "ax.grid()\n",
    "plt.show()"
   ]
  },
  {
   "cell_type": "markdown",
   "id": "978bfe40-4ea0-4096-8b2a-6515abd112eb",
   "metadata": {},
   "source": [
    "## Vliv počasí na poptávku po kolech ##"
   ]
  },
  {
   "cell_type": "code",
   "execution_count": null,
   "id": "e0fd2d6b-e31a-48e0-af17-0ef02244cf8c",
   "metadata": {},
   "outputs": [],
   "source": []
  }
 ],
 "metadata": {
  "kernelspec": {
   "display_name": "Python 3 (ipykernel)",
   "language": "python",
   "name": "python3"
  },
  "language_info": {
   "codemirror_mode": {
    "name": "ipython",
    "version": 3
   },
   "file_extension": ".py",
   "mimetype": "text/x-python",
   "name": "python",
   "nbconvert_exporter": "python",
   "pygments_lexer": "ipython3",
   "version": "3.9.7"
  },
  "toc-autonumbering": false
 },
 "nbformat": 4,
 "nbformat_minor": 5
}
